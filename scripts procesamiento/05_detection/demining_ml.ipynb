{
 "cells": [
  {
   "cell_type": "markdown",
   "source": [
    "# Sistema de detección de minas utilizando GPR y Machine Learning"
   ],
   "metadata": {
    "collapsed": false,
    "pycharm": {
     "name": "#%% md\n"
    }
   },
   "outputs": []
  },
  {
   "cell_type": "markdown",
   "source": [
    "## Importación de librerias"
   ],
   "metadata": {
    "collapsed": false,
    "pycharm": {
     "name": "#%% md\n"
    }
   }
  },
  {
   "cell_type": "code",
   "execution_count": 1,
   "outputs": [
    {
     "name": "stderr",
     "output_type": "stream",
     "text": [
      "Intel(R) Extension for Scikit-learn* enabled (https://github.com/intel/scikit-learn-intelex)\n"
     ]
    }
   ],
   "source": [
    "import numpy as np; np.random.seed(0)\n",
    "import seaborn as sns; sns.set_theme()\n",
    "import joblib\n",
    "\n",
    "import h5py\n",
    "\n",
    "from sklearnex import patch_sklearn, config_context\n",
    "patch_sklearn()\n",
    "\n",
    "from sklearn.decomposition import MiniBatchDictionaryLearning, DictionaryLearning\n",
    "from sklearn.svm import SVC\n",
    "from sklearn.pipeline import Pipeline\n",
    "\n",
    "from sklearn.model_selection import StratifiedKFold\n",
    "from sklearn.model_selection import GridSearchCV\n",
    "\n",
    "from sklearn.metrics import classification_report\n",
    "\n",
    "import matplotlib.pyplot as plt\n"
   ],
   "metadata": {
    "collapsed": false,
    "pycharm": {
     "name": "#%%\n"
    }
   }
  },
  {
   "cell_type": "markdown",
   "source": [
    "## Funciones"
   ],
   "metadata": {
    "collapsed": false,
    "pycharm": {
     "name": "#%% md\n"
    }
   }
  },
  {
   "cell_type": "markdown",
   "source": [
    "### Lectura c-scan"
   ],
   "metadata": {
    "collapsed": false,
    "pycharm": {
     "name": "#%% md\n"
    }
   }
  },
  {
   "cell_type": "code",
   "execution_count": 2,
   "outputs": [],
   "source": [
    "def read_c_scan(filename: str, polarization: str):\n",
    "    \"\"\"\n",
    "    Reads a .h5 file with a time C-Scan and returns it in a numpy array.\n",
    "    :param filename: Filename of the .h5 file.\n",
    "    :param polarization: \"x\" or \"y\" polarization\n",
    "    :return: numpy array with de C-Scan\n",
    "    \"\"\"\n",
    "    data_frame = h5py.File(filename, 'r')\n",
    "\n",
    "    t0 = data_frame['Time'].attrs['t0']\n",
    "    tf = data_frame['Time'].attrs['tf']\n",
    "    qt = int(data_frame['Time'].attrs['q'])\n",
    "    # x- and y-axis lower limits, upper limits and step are retrieved\n",
    "    x0 = data_frame['Position'].attrs['x0']\n",
    "    dx = data_frame['Position'].attrs['dx']\n",
    "    xf = data_frame['Position'].attrs['xf']\n",
    "    y0 = data_frame['Position'].attrs['y0']\n",
    "    dy = data_frame['Position'].attrs['dy']\n",
    "    yf = data_frame['Position'].attrs['yf']\n",
    "    print(f\"x: ({x0}, {xf})\")\n",
    "    print(f\"y: ({y0}, {yf})\")\n",
    "    # Amount of steps over each axis is calculated. Operation rounds up the division result as needed\n",
    "    qx = int(round((xf - x0) / dx + 1))\n",
    "    qy = int(round((yf - y0) / dy + 1))\n",
    "\n",
    "    c_scan_scalars = np.zeros([qx, qy, qt])\n",
    "\n",
    "    for i in range(0, qx):\n",
    "        # Indexes used to retrieve individual planes of the C-Scan are calculated\n",
    "        index_0 = i * qy\n",
    "        index_f = (i + 1) * qy\n",
    "        c_scan_scalars[i, :, :] = data_frame['A-Scan/Re{A-Scan x-pol}'][index_0:index_f][:]\n",
    "\n",
    "    return c_scan_scalars"
   ],
   "metadata": {
    "collapsed": false,
    "pycharm": {
     "name": "#%%\n"
    }
   }
  },
  {
   "cell_type": "markdown",
   "source": [
    "### Graficar mapa de minas"
   ],
   "metadata": {
    "collapsed": false,
    "pycharm": {
     "name": "#%% md\n"
    }
   }
  },
  {
   "cell_type": "code",
   "execution_count": 3,
   "outputs": [],
   "source": [
    "def plot_mine_map(x, y, map):\n",
    "    \"\"\"\n",
    "    Plots a probability map\n",
    "    :param x: x-axis\n",
    "    :param y: y-axis\n",
    "    :param map: ndarray with probabilities\n",
    "    :return: None\n",
    "    \"\"\"\n",
    "    plt.figure(figsize=(10, 10))\n",
    "    plt.grid(False)\n",
    "    plt.pcolor(x, y, map, shading='auto', cmap='YlGnBu')\n",
    "    plt.colorbar()\n",
    "    plt.clim(0,1)\n",
    "    plt.xlabel('x')\n",
    "    plt.ylabel('y')\n",
    "    plt.show()"
   ],
   "metadata": {
    "collapsed": false,
    "pycharm": {
     "name": "#%%\n"
    }
   }
  },
  {
   "cell_type": "markdown",
   "source": [
    "## Entrenamiento"
   ],
   "metadata": {
    "collapsed": false,
    "pycharm": {
     "name": "#%% md\n"
    }
   }
  },
  {
   "cell_type": "markdown",
   "source": [
    "### Escenario 2: Esfera metálica\n",
    "\n",
    "Altura antena: 60 cm.\n",
    "Campo: 70 x 70 cm.\n",
    "Altura arena: 26 cm.\n",
    "\n",
    "Esfera metálica de 7 cm  de diámetro enterrada a 1 cm de profundidad, cuyo centro se encuentra en las coordenadas X-Y (35 cm , 35 cm)."
   ],
   "metadata": {
    "collapsed": false,
    "pycharm": {
     "name": "#%% md\n"
    }
   }
  },
  {
   "cell_type": "code",
   "execution_count": 4,
   "outputs": [
    {
     "name": "stdout",
     "output_type": "stream",
     "text": [
      "x: (0.0, 0.7)\n",
      "y: (0.0, 0.7)\n"
     ]
    },
    {
     "name": "stderr",
     "output_type": "stream",
     "text": [
      "C:\\Users\\leone\\AppData\\Local\\Temp/ipykernel_4812/4152128146.py:5: MatplotlibDeprecationWarning: Auto-removal of grids by pcolor() and pcolormesh() is deprecated since 3.5 and will be removed two minor releases later; please call grid(False) first.\n",
      "  plt.colorbar()\n"
     ]
    },
    {
     "data": {
      "text/plain": "<Figure size 720x720 with 2 Axes>",
      "image/png": "[encoded data removed]"
     },
     "metadata": {},
     "output_type": "display_data"
    }
   ],
   "source": [
    "c_scan = read_c_scan(r\"C:\\Users\\leone\\Universidad de los Andes\\Daniel Julian Gonzalez Ramirez - Entrega Proyecto Desminado - Daniel Gonzalez\\02 mediciones de gpr\\02_esfera_metalica_7mm_350_350_10mm\\01_merged_files\\C_Scan_time_raw.h5\", 'x')\n",
    "\n",
    "qx, qy, qt = c_scan.shape\n",
    "X_train_2 = np.reshape(c_scan, (qx * qy, qt))\n",
    "\n",
    "x = np.linspace(0, 700, qx)\n",
    "y = np.linspace(0, 700, qy)\n",
    "\n",
    "mine_map = np.zeros((y.size, x.size))\n",
    "\n",
    "cx = 350\n",
    "cy = 350\n",
    "r = 35\n",
    "\n",
    "mask = (x[np.newaxis,:]-cx)**2 + (y[:,np.newaxis]-cy)**2 < r**2\n",
    "mine_map[mask] = 1\n",
    "\n",
    "y_train_2 = np.reshape(mine_map, (qx * qy))\n",
    "\n",
    "plot_mine_map(x, y, mine_map)\n"
   ],
   "metadata": {
    "collapsed": false,
    "pycharm": {
     "name": "#%%\n"
    }
   }
  },
  {
   "cell_type": "markdown",
   "source": [
    "### Escenario 3\n",
    "\n",
    "Altura antena: 60 cm.\n",
    "Campo: 70 x 70 cm.\n",
    "Altura arena: 26 cm.\n",
    "\n",
    "Esfera metálica de 7 cm  de diámetro enterrada a 11 cm de profundidad, cuyo centro se encuentra en las coordenadas X-Y (35 cm , 35 cm)."
   ],
   "metadata": {
    "collapsed": false,
    "pycharm": {
     "name": "#%% md\n"
    }
   }
  },
  {
   "cell_type": "code",
   "execution_count": 5,
   "outputs": [
    {
     "name": "stdout",
     "output_type": "stream",
     "text": [
      "x: (0.0, 0.7)\n",
      "y: (0.0, 0.7)\n"
     ]
    },
    {
     "name": "stderr",
     "output_type": "stream",
     "text": [
      "C:\\Users\\leone\\AppData\\Local\\Temp/ipykernel_4812/4152128146.py:5: MatplotlibDeprecationWarning: Auto-removal of grids by pcolor() and pcolormesh() is deprecated since 3.5 and will be removed two minor releases later; please call grid(False) first.\n",
      "  plt.colorbar()\n"
     ]
    },
    {
     "data": {
      "text/plain": "<Figure size 720x720 with 2 Axes>",
      "image/png": "[encoded data removed]"
     },
     "metadata": {},
     "output_type": "display_data"
    }
   ],
   "source": [
    "c_scan = read_c_scan(r\"C:\\Users\\leone\\Universidad de los Andes\\Daniel Julian Gonzalez Ramirez - Entrega Proyecto Desminado - Daniel Gonzalez\\02 mediciones de gpr\\03_esfera_metalica_7mm_350_350_110mm\\01_merged_files\\C_Scan_time_raw.h5\", 'x')\n",
    "\n",
    "qx, qy, qt = c_scan.shape\n",
    "X_train_3 = np.reshape(c_scan, (qx * qy, qt))\n",
    "\n",
    "x = np.linspace(0, 700, qx)\n",
    "y = np.linspace(0, 700, qy)\n",
    "\n",
    "mine_map = np.zeros((y.size, x.size))\n",
    "\n",
    "cx = 350\n",
    "cy = 350\n",
    "r = 35\n",
    "\n",
    "mask = (x[np.newaxis,:]-cx)**2 + (y[:,np.newaxis]-cy)**2 < r**2\n",
    "mine_map[mask] = 1\n",
    "\n",
    "y_train_3 = np.reshape(mine_map, (qx * qy))\n",
    "\n",
    "plot_mine_map(x, y, mine_map)"
   ],
   "metadata": {
    "collapsed": false,
    "pycharm": {
     "name": "#%%\n"
    }
   }
  },
  {
   "cell_type": "markdown",
   "source": [
    "### Escenario 5\n",
    "\n",
    "Altura antena: 42 cm.\n",
    "Campo: 70 x 70 cm.\n",
    "Altura arena: 26 cm.\n",
    "\n",
    "Mina de plástico enterrada a 2 cm de profundidad. Geometría cilíndrica vertical con centro en (35, 35) y 7 cm de diámetro."
   ],
   "metadata": {
    "collapsed": false,
    "pycharm": {
     "name": "#%% md\n"
    }
   }
  },
  {
   "cell_type": "code",
   "execution_count": 6,
   "outputs": [
    {
     "name": "stdout",
     "output_type": "stream",
     "text": [
      "x: (0.0, 0.7)\n",
      "y: (0.0, 0.7)\n"
     ]
    },
    {
     "name": "stderr",
     "output_type": "stream",
     "text": [
      "C:\\Users\\leone\\AppData\\Local\\Temp/ipykernel_4812/4152128146.py:5: MatplotlibDeprecationWarning: Auto-removal of grids by pcolor() and pcolormesh() is deprecated since 3.5 and will be removed two minor releases later; please call grid(False) first.\n",
      "  plt.colorbar()\n"
     ]
    },
    {
     "data": {
      "text/plain": "<Figure size 720x720 with 2 Axes>",
      "image/png": "[encoded data removed]"
     },
     "metadata": {},
     "output_type": "display_data"
    }
   ],
   "source": [
    "c_scan = read_c_scan(r\"C:\\Users\\leone\\Universidad de los Andes\\Daniel Julian Gonzalez Ramirez - Entrega Proyecto Desminado - Daniel Gonzalez\\02 mediciones de gpr\\05_mina_350_350\\02_merged_files\\C_Scan_time_raw.h5\", 'x')\n",
    "\n",
    "qx, qy, qt = c_scan.shape\n",
    "X_train_5 = np.reshape(c_scan, (qx * qy, qt))\n",
    "\n",
    "x = np.linspace(0, 700, qx)\n",
    "y = np.linspace(0, 700, qy)\n",
    "\n",
    "mine_map = np.zeros((y.size, x.size))\n",
    "\n",
    "cx = 350\n",
    "cy = 350\n",
    "r = 35\n",
    "\n",
    "mask = (x[np.newaxis,:]-cx)**2 + (y[:,np.newaxis]-cy)**2 < r**2\n",
    "mine_map[mask] = 1\n",
    "\n",
    "y_train_5 = np.reshape(mine_map, (qx * qy))\n",
    "\n",
    "plot_mine_map(x, y, mine_map)"
   ],
   "metadata": {
    "collapsed": false,
    "pycharm": {
     "name": "#%%\n"
    }
   }
  },
  {
   "cell_type": "markdown",
   "source": [
    "### Escenario 6\n",
    "\n",
    "Altura antena: 60 cm.\n",
    "Campo: 70 x 70 cm.\n",
    "Altura arena: 26 cm.\n",
    "\n",
    "Placa metálica de 25 cm de lado enterrada a 2 cm de profundidad, cuyo centro se encuentra en las coordenadas X-Y (35 cm , 35 cm).\n"
   ],
   "metadata": {
    "collapsed": false,
    "pycharm": {
     "name": "#%% md\n"
    }
   }
  },
  {
   "cell_type": "code",
   "execution_count": 7,
   "outputs": [
    {
     "name": "stdout",
     "output_type": "stream",
     "text": [
      "x: (0.0, 0.7)\n",
      "y: (1.0, 1.7)\n"
     ]
    },
    {
     "name": "stderr",
     "output_type": "stream",
     "text": [
      "C:\\Users\\leone\\AppData\\Local\\Temp/ipykernel_4812/4152128146.py:5: MatplotlibDeprecationWarning: Auto-removal of grids by pcolor() and pcolormesh() is deprecated since 3.5 and will be removed two minor releases later; please call grid(False) first.\n",
      "  plt.colorbar()\n"
     ]
    },
    {
     "data": {
      "text/plain": "<Figure size 720x720 with 2 Axes>",
      "image/png": "[encoded data removed]"
     },
     "metadata": {},
     "output_type": "display_data"
    }
   ],
   "source": [
    "c_scan = read_c_scan(r\"C:\\Users\\leone\\Universidad de los Andes\\Daniel Julian Gonzalez Ramirez - Entrega Proyecto Desminado - Daniel Gonzalez\\02 mediciones de gpr\\06_placa_metalica_350_1350\\02_merged_files\\C_Scan_time_raw.h5\", 'x')\n",
    "\n",
    "qx, qy, qt = c_scan.shape\n",
    "X_train_6 = np.reshape(c_scan, (qx * qy, qt))\n",
    "\n",
    "x = np.linspace(0, 700, qx)\n",
    "y = np.linspace(0, 700, qy)\n",
    "\n",
    "mine_map = np.zeros((y.size, x.size))\n",
    "\n",
    "cx = 350\n",
    "cy = 350\n",
    "l = 250\n",
    "\n",
    "mask_x= np.abs(x-cx) < l/2.\n",
    "mask_y= np.abs(y-cy) < l/2\n",
    "\n",
    "mine_map[np.ix_(np.flatnonzero(mask_y), np.flatnonzero(mask_x))] = 1\n",
    "\n",
    "y_train_6 = np.reshape(mine_map, (qx * qy))\n",
    "\n",
    "plot_mine_map(x, y, mine_map)"
   ],
   "metadata": {
    "collapsed": false,
    "pycharm": {
     "name": "#%%\n"
    }
   }
  },
  {
   "cell_type": "markdown",
   "source": [
    "## Unión de escenarios\n"
   ],
   "metadata": {
    "collapsed": false,
    "pycharm": {
     "name": "#%% md\n"
    }
   }
  },
  {
   "cell_type": "code",
   "execution_count": 8,
   "outputs": [],
   "source": [
    "X_train = np.concatenate((X_train_2, X_train_3, X_train_5, X_train_6), axis=0)\n",
    "y_train = np.concatenate((y_train_2, y_train_3, y_train_5, y_train_6), axis=0)"
   ],
   "metadata": {
    "collapsed": false,
    "pycharm": {
     "name": "#%%\n"
    }
   }
  },
  {
   "cell_type": "code",
   "execution_count": 14,
   "outputs": [
    {
     "data": {
      "text/plain": "(79524, 555)"
     },
     "execution_count": 14,
     "metadata": {},
     "output_type": "execute_result"
    }
   ],
   "source": [
    "X_train.shape"
   ],
   "metadata": {
    "collapsed": false,
    "pycharm": {
     "name": "#%%\n"
    }
   }
  },
  {
   "cell_type": "code",
   "execution_count": 9,
   "outputs": [
    {
     "name": "stdout",
     "output_type": "stream",
     "text": [
      "[dict_learning] .600 unused atoms resampled.\n",
      ".600 unused atoms resampled.\n",
      "\n"
     ]
    },
    {
     "name": "stderr",
     "output_type": "stream",
     "text": [
      "C:\\Users\\leone\\anaconda3\\envs\\env\\lib\\site-packages\\sklearn\\decomposition\\_dict_learning.py:207: RuntimeWarning: Orthogonal matching pursuit ended prematurely due to linear dependence in the dictionary. The requested precision might not have been met.\n",
      "  new_code = orthogonal_mp_gram(\n"
     ]
    }
   ],
   "source": [
    "dict_learner = DictionaryLearning(n_components=600, fit_algorithm='cd', transform_algorithm='omp', verbose=True)\n",
    "X_sparse = dic  t_learner.fit_transform(X_train)\n"
   ],
   "metadata": {
    "collapsed": false,
    "pycharm": {
     "name": "#%%\n"
    }
   }
  },
  {
   "cell_type": "code",
   "execution_count": 29,
   "outputs": [
    {
     "data": {
      "text/plain": "['dict2.joblib']"
     },
     "execution_count": 29,
     "metadata": {},
     "output_type": "execute_result"
    }
   ],
   "source": [
    "joblib.dump(dict_learner, 'dict2.joblib')"
   ],
   "metadata": {
    "collapsed": false,
    "pycharm": {
     "name": "#%%\n"
    }
   }
  },
  {
   "cell_type": "code",
   "execution_count": 39,
   "outputs": [
    {
     "name": "stdout",
     "output_type": "stream",
     "text": [
      "Fitting 3 folds for each of 49 candidates, totalling 147 fits\n",
      "SKLEARNEX INFO: sklearn.svm.SVC.fit: running accelerated version on CPU\n",
      "SKLEARNEX INFO: sklearn.svm.SVC.fit: running accelerated version on CPU\n",
      "SKLEARNEX INFO: sklearn.svm.SVC.predict: running accelerated version on CPU\n",
      "[CV 1/3] END ..............C=0.001, gamma=0.001;, score=0.000 total time= 1.5min\n",
      "SKLEARNEX INFO: sklearn.svm.SVC.fit: running accelerated version on CPU\n",
      "SKLEARNEX INFO: sklearn.svm.SVC.fit: running accelerated version on CPU\n",
      "SKLEARNEX INFO: sklearn.svm.SVC.predict: running accelerated version on CPU\n",
      "[CV 2/3] END ..............C=0.001, gamma=0.001;, score=0.000 total time= 1.2min\n",
      "SKLEARNEX INFO: sklearn.svm.SVC.fit: running accelerated version on CPU\n",
      "SKLEARNEX INFO: sklearn.svm.SVC.fit: running accelerated version on CPU\n",
      "SKLEARNEX INFO: sklearn.svm.SVC.predict: running accelerated version on CPU\n",
      "[CV 3/3] END ..............C=0.001, gamma=0.001;, score=0.000 total time= 1.1min\n",
      "SKLEARNEX INFO: sklearn.svm.SVC.fit: running accelerated version on CPU\n",
      "SKLEARNEX INFO: sklearn.svm.SVC.fit: running accelerated version on CPU\n",
      "SKLEARNEX INFO: sklearn.svm.SVC.predict: running accelerated version on CPU\n",
      "[CV 1/3] END ...............C=0.001, gamma=0.01;, score=0.000 total time= 1.3min\n",
      "SKLEARNEX INFO: sklearn.svm.SVC.fit: running accelerated version on CPU\n",
      "SKLEARNEX INFO: sklearn.svm.SVC.fit: running accelerated version on CPU\n",
      "SKLEARNEX INFO: sklearn.svm.SVC.predict: running accelerated version on CPU\n",
      "[CV 2/3] END ...............C=0.001, gamma=0.01;, score=0.000 total time= 1.3min\n",
      "SKLEARNEX INFO: sklearn.svm.SVC.fit: running accelerated version on CPU\n",
      "SKLEARNEX INFO: sklearn.svm.SVC.fit: running accelerated version on CPU\n",
      "SKLEARNEX INFO: sklearn.svm.SVC.predict: running accelerated version on CPU\n",
      "[CV 3/3] END ...............C=0.001, gamma=0.01;, score=0.000 total time= 1.2min\n",
      "SKLEARNEX INFO: sklearn.svm.SVC.fit: running accelerated version on CPU\n",
      "SKLEARNEX INFO: sklearn.svm.SVC.fit: running accelerated version on CPU\n",
      "SKLEARNEX INFO: sklearn.svm.SVC.predict: running accelerated version on CPU\n",
      "[CV 1/3] END ................C=0.001, gamma=0.1;, score=0.000 total time= 1.6min\n",
      "SKLEARNEX INFO: sklearn.svm.SVC.fit: running accelerated version on CPU\n",
      "SKLEARNEX INFO: sklearn.svm.SVC.fit: running accelerated version on CPU\n",
      "SKLEARNEX INFO: sklearn.svm.SVC.predict: running accelerated version on CPU\n",
      "[CV 2/3] END ................C=0.001, gamma=0.1;, score=0.000 total time= 1.5min\n",
      "SKLEARNEX INFO: sklearn.svm.SVC.fit: running accelerated version on CPU\n",
      "SKLEARNEX INFO: sklearn.svm.SVC.fit: running accelerated version on CPU\n",
      "SKLEARNEX INFO: sklearn.svm.SVC.predict: running accelerated version on CPU\n",
      "[CV 3/3] END ................C=0.001, gamma=0.1;, score=0.000 total time= 1.5min\n",
      "SKLEARNEX INFO: sklearn.svm.SVC.fit: running accelerated version on CPU\n",
      "SKLEARNEX INFO: sklearn.svm.SVC.fit: running accelerated version on CPU\n",
      "SKLEARNEX INFO: sklearn.svm.SVC.predict: running accelerated version on CPU\n",
      "[CV 1/3] END ................C=0.001, gamma=1.0;, score=0.000 total time= 1.6min\n",
      "SKLEARNEX INFO: sklearn.svm.SVC.fit: running accelerated version on CPU\n",
      "SKLEARNEX INFO: sklearn.svm.SVC.fit: running accelerated version on CPU\n",
      "SKLEARNEX INFO: sklearn.svm.SVC.predict: running accelerated version on CPU\n",
      "[CV 2/3] END ................C=0.001, gamma=1.0;, score=0.000 total time= 1.6min\n",
      "SKLEARNEX INFO: sklearn.svm.SVC.fit: running accelerated version on CPU\n",
      "SKLEARNEX INFO: sklearn.svm.SVC.fit: running accelerated version on CPU\n",
      "SKLEARNEX INFO: sklearn.svm.SVC.predict: running accelerated version on CPU\n",
      "[CV 3/3] END ................C=0.001, gamma=1.0;, score=0.000 total time= 1.8min\n",
      "SKLEARNEX INFO: sklearn.svm.SVC.fit: running accelerated version on CPU\n",
      "SKLEARNEX INFO: sklearn.svm.SVC.fit: running accelerated version on CPU\n",
      "SKLEARNEX INFO: sklearn.svm.SVC.predict: running accelerated version on CPU\n",
      "[CV 1/3] END ...............C=0.001, gamma=10.0;, score=0.000 total time= 1.7min\n",
      "SKLEARNEX INFO: sklearn.svm.SVC.fit: running accelerated version on CPU\n",
      "SKLEARNEX INFO: sklearn.svm.SVC.fit: running accelerated version on CPU\n",
      "SKLEARNEX INFO: sklearn.svm.SVC.predict: running accelerated version on CPU\n",
      "[CV 2/3] END ...............C=0.001, gamma=10.0;, score=0.000 total time= 1.7min\n",
      "SKLEARNEX INFO: sklearn.svm.SVC.fit: running accelerated version on CPU\n",
      "SKLEARNEX INFO: sklearn.svm.SVC.fit: running accelerated version on CPU\n",
      "SKLEARNEX INFO: sklearn.svm.SVC.predict: running accelerated version on CPU\n",
      "[CV 3/3] END ...............C=0.001, gamma=10.0;, score=0.000 total time= 1.7min\n",
      "SKLEARNEX INFO: sklearn.svm.SVC.fit: running accelerated version on CPU\n",
      "SKLEARNEX INFO: sklearn.svm.SVC.fit: running accelerated version on CPU\n",
      "SKLEARNEX INFO: sklearn.svm.SVC.predict: running accelerated version on CPU\n",
      "[CV 1/3] END ..............C=0.001, gamma=100.0;, score=0.000 total time= 1.6min\n",
      "SKLEARNEX INFO: sklearn.svm.SVC.fit: running accelerated version on CPU\n",
      "SKLEARNEX INFO: sklearn.svm.SVC.fit: running accelerated version on CPU\n",
      "SKLEARNEX INFO: sklearn.svm.SVC.predict: running accelerated version on CPU\n",
      "[CV 2/3] END ..............C=0.001, gamma=100.0;, score=0.000 total time= 1.8min\n",
      "SKLEARNEX INFO: sklearn.svm.SVC.fit: running accelerated version on CPU\n",
      "SKLEARNEX INFO: sklearn.svm.SVC.fit: running accelerated version on CPU\n",
      "SKLEARNEX INFO: sklearn.svm.SVC.predict: running accelerated version on CPU\n",
      "[CV 3/3] END ..............C=0.001, gamma=100.0;, score=0.000 total time= 1.4min\n",
      "SKLEARNEX INFO: sklearn.svm.SVC.fit: running accelerated version on CPU\n",
      "SKLEARNEX INFO: sklearn.svm.SVC.fit: running accelerated version on CPU\n",
      "SKLEARNEX INFO: sklearn.svm.SVC.predict: running accelerated version on CPU\n",
      "[CV 1/3] END .............C=0.001, gamma=1000.0;, score=0.000 total time= 1.3min\n",
      "SKLEARNEX INFO: sklearn.svm.SVC.fit: running accelerated version on CPU\n",
      "SKLEARNEX INFO: sklearn.svm.SVC.fit: running accelerated version on CPU\n",
      "SKLEARNEX INFO: sklearn.svm.SVC.predict: running accelerated version on CPU\n",
      "[CV 2/3] END .............C=0.001, gamma=1000.0;, score=0.000 total time= 1.3min\n",
      "SKLEARNEX INFO: sklearn.svm.SVC.fit: running accelerated version on CPU\n",
      "SKLEARNEX INFO: sklearn.svm.SVC.fit: running accelerated version on CPU\n",
      "SKLEARNEX INFO: sklearn.svm.SVC.predict: running accelerated version on CPU\n",
      "[CV 3/3] END .............C=0.001, gamma=1000.0;, score=0.000 total time= 1.3min\n",
      "SKLEARNEX INFO: sklearn.svm.SVC.fit: running accelerated version on CPU\n",
      "SKLEARNEX INFO: sklearn.svm.SVC.fit: running accelerated version on CPU\n",
      "SKLEARNEX INFO: sklearn.svm.SVC.predict: running accelerated version on CPU\n",
      "[CV 1/3] END ...............C=0.01, gamma=0.001;, score=0.000 total time= 1.1min\n",
      "SKLEARNEX INFO: sklearn.svm.SVC.fit: running accelerated version on CPU\n",
      "SKLEARNEX INFO: sklearn.svm.SVC.fit: running accelerated version on CPU\n",
      "SKLEARNEX INFO: sklearn.svm.SVC.predict: running accelerated version on CPU\n",
      "[CV 2/3] END ...............C=0.01, gamma=0.001;, score=0.000 total time= 1.1min\n",
      "SKLEARNEX INFO: sklearn.svm.SVC.fit: running accelerated version on CPU\n",
      "SKLEARNEX INFO: sklearn.svm.SVC.fit: running accelerated version on CPU\n",
      "SKLEARNEX INFO: sklearn.svm.SVC.predict: running accelerated version on CPU\n",
      "[CV 3/3] END ...............C=0.01, gamma=0.001;, score=0.000 total time= 1.1min\n",
      "SKLEARNEX INFO: sklearn.svm.SVC.fit: running accelerated version on CPU\n",
      "SKLEARNEX INFO: sklearn.svm.SVC.fit: running accelerated version on CPU\n",
      "SKLEARNEX INFO: sklearn.svm.SVC.predict: running accelerated version on CPU\n",
      "[CV 1/3] END ................C=0.01, gamma=0.01;, score=0.000 total time= 1.3min\n",
      "SKLEARNEX INFO: sklearn.svm.SVC.fit: running accelerated version on CPU\n",
      "SKLEARNEX INFO: sklearn.svm.SVC.fit: running accelerated version on CPU\n",
      "SKLEARNEX INFO: sklearn.svm.SVC.predict: running accelerated version on CPU\n",
      "[CV 2/3] END ................C=0.01, gamma=0.01;, score=0.000 total time= 1.3min\n",
      "SKLEARNEX INFO: sklearn.svm.SVC.fit: running accelerated version on CPU\n",
      "SKLEARNEX INFO: sklearn.svm.SVC.fit: running accelerated version on CPU\n",
      "SKLEARNEX INFO: sklearn.svm.SVC.predict: running accelerated version on CPU\n",
      "[CV 3/3] END ................C=0.01, gamma=0.01;, score=0.000 total time= 1.3min\n",
      "SKLEARNEX INFO: sklearn.svm.SVC.fit: running accelerated version on CPU\n",
      "SKLEARNEX INFO: sklearn.svm.SVC.fit: running accelerated version on CPU\n",
      "SKLEARNEX INFO: sklearn.svm.SVC.predict: running accelerated version on CPU\n",
      "[CV 1/3] END .................C=0.01, gamma=0.1;, score=0.000 total time= 1.4min\n",
      "SKLEARNEX INFO: sklearn.svm.SVC.fit: running accelerated version on CPU\n",
      "SKLEARNEX INFO: sklearn.svm.SVC.fit: running accelerated version on CPU\n",
      "SKLEARNEX INFO: sklearn.svm.SVC.predict: running accelerated version on CPU\n",
      "[CV 2/3] END .................C=0.01, gamma=0.1;, score=0.000 total time= 1.4min\n",
      "SKLEARNEX INFO: sklearn.svm.SVC.fit: running accelerated version on CPU\n",
      "SKLEARNEX INFO: sklearn.svm.SVC.fit: running accelerated version on CPU\n",
      "SKLEARNEX INFO: sklearn.svm.SVC.predict: running accelerated version on CPU\n",
      "[CV 3/3] END .................C=0.01, gamma=0.1;, score=0.000 total time= 1.3min\n",
      "SKLEARNEX INFO: sklearn.svm.SVC.fit: running accelerated version on CPU\n",
      "SKLEARNEX INFO: sklearn.svm.SVC.fit: running accelerated version on CPU\n",
      "SKLEARNEX INFO: sklearn.svm.SVC.predict: running accelerated version on CPU\n",
      "[CV 1/3] END .................C=0.01, gamma=1.0;, score=0.000 total time= 1.5min\n",
      "SKLEARNEX INFO: sklearn.svm.SVC.fit: running accelerated version on CPU\n",
      "SKLEARNEX INFO: sklearn.svm.SVC.fit: running accelerated version on CPU\n",
      "SKLEARNEX INFO: sklearn.svm.SVC.predict: running accelerated version on CPU\n",
      "[CV 2/3] END .................C=0.01, gamma=1.0;, score=0.000 total time= 1.5min\n",
      "SKLEARNEX INFO: sklearn.svm.SVC.fit: running accelerated version on CPU\n",
      "SKLEARNEX INFO: sklearn.svm.SVC.fit: running accelerated version on CPU\n",
      "SKLEARNEX INFO: sklearn.svm.SVC.predict: running accelerated version on CPU\n",
      "[CV 3/3] END .................C=0.01, gamma=1.0;, score=0.000 total time= 1.5min\n",
      "SKLEARNEX INFO: sklearn.svm.SVC.fit: running accelerated version on CPU\n",
      "SKLEARNEX INFO: sklearn.svm.SVC.fit: running accelerated version on CPU\n",
      "SKLEARNEX INFO: sklearn.svm.SVC.predict: running accelerated version on CPU\n",
      "[CV 1/3] END ................C=0.01, gamma=10.0;, score=0.000 total time= 8.0min\n",
      "SKLEARNEX INFO: sklearn.svm.SVC.fit: running accelerated version on CPU\n",
      "SKLEARNEX INFO: sklearn.svm.SVC.fit: running accelerated version on CPU\n",
      "SKLEARNEX INFO: sklearn.svm.SVC.predict: running accelerated version on CPU\n",
      "[CV 2/3] END ................C=0.01, gamma=10.0;, score=0.000 total time= 8.1min\n",
      "SKLEARNEX INFO: sklearn.svm.SVC.fit: running accelerated version on CPU\n",
      "SKLEARNEX INFO: sklearn.svm.SVC.fit: running accelerated version on CPU\n",
      "SKLEARNEX INFO: sklearn.svm.SVC.predict: running accelerated version on CPU\n",
      "[CV 3/3] END ................C=0.01, gamma=10.0;, score=0.000 total time= 8.1min\n",
      "SKLEARNEX INFO: sklearn.svm.SVC.fit: running accelerated version on CPU\n",
      "SKLEARNEX INFO: sklearn.svm.SVC.fit: running accelerated version on CPU\n",
      "SKLEARNEX INFO: sklearn.svm.SVC.predict: running accelerated version on CPU\n",
      "[CV 1/3] END ...............C=0.01, gamma=100.0;, score=0.000 total time= 7.3min\n",
      "SKLEARNEX INFO: sklearn.svm.SVC.fit: running accelerated version on CPU\n",
      "SKLEARNEX INFO: sklearn.svm.SVC.fit: running accelerated version on CPU\n",
      "SKLEARNEX INFO: sklearn.svm.SVC.predict: running accelerated version on CPU\n",
      "[CV 2/3] END ...............C=0.01, gamma=100.0;, score=0.000 total time= 7.4min\n",
      "SKLEARNEX INFO: sklearn.svm.SVC.fit: running accelerated version on CPU\n",
      "SKLEARNEX INFO: sklearn.svm.SVC.fit: running accelerated version on CPU\n",
      "SKLEARNEX INFO: sklearn.svm.SVC.predict: running accelerated version on CPU\n",
      "[CV 3/3] END ...............C=0.01, gamma=100.0;, score=0.000 total time= 7.9min\n",
      "SKLEARNEX INFO: sklearn.svm.SVC.fit: running accelerated version on CPU\n",
      "SKLEARNEX INFO: sklearn.svm.SVC.fit: running accelerated version on CPU\n",
      "SKLEARNEX INFO: sklearn.svm.SVC.predict: running accelerated version on CPU\n",
      "[CV 1/3] END ..............C=0.01, gamma=1000.0;, score=0.000 total time= 7.3min\n",
      "SKLEARNEX INFO: sklearn.svm.SVC.fit: running accelerated version on CPU\n",
      "SKLEARNEX INFO: sklearn.svm.SVC.fit: running accelerated version on CPU\n",
      "SKLEARNEX INFO: sklearn.svm.SVC.predict: running accelerated version on CPU\n",
      "[CV 2/3] END ..............C=0.01, gamma=1000.0;, score=0.000 total time= 7.3min\n",
      "SKLEARNEX INFO: sklearn.svm.SVC.fit: running accelerated version on CPU\n",
      "SKLEARNEX INFO: sklearn.svm.SVC.fit: running accelerated version on CPU\n",
      "SKLEARNEX INFO: sklearn.svm.SVC.predict: running accelerated version on CPU\n",
      "[CV 3/3] END ..............C=0.01, gamma=1000.0;, score=0.000 total time= 7.3min\n",
      "SKLEARNEX INFO: sklearn.svm.SVC.fit: running accelerated version on CPU\n",
      "SKLEARNEX INFO: sklearn.svm.SVC.fit: running accelerated version on CPU\n",
      "SKLEARNEX INFO: sklearn.svm.SVC.predict: running accelerated version on CPU\n",
      "[CV 1/3] END ................C=0.1, gamma=0.001;, score=0.000 total time= 1.3min\n",
      "SKLEARNEX INFO: sklearn.svm.SVC.fit: running accelerated version on CPU\n",
      "SKLEARNEX INFO: sklearn.svm.SVC.fit: running accelerated version on CPU\n",
      "SKLEARNEX INFO: sklearn.svm.SVC.predict: running accelerated version on CPU\n",
      "[CV 2/3] END ................C=0.1, gamma=0.001;, score=0.000 total time= 1.2min\n",
      "SKLEARNEX INFO: sklearn.svm.SVC.fit: running accelerated version on CPU\n",
      "SKLEARNEX INFO: sklearn.svm.SVC.fit: running accelerated version on CPU\n",
      "SKLEARNEX INFO: sklearn.svm.SVC.predict: running accelerated version on CPU\n",
      "[CV 3/3] END ................C=0.1, gamma=0.001;, score=0.000 total time= 1.2min\n",
      "SKLEARNEX INFO: sklearn.svm.SVC.fit: running accelerated version on CPU\n",
      "SKLEARNEX INFO: sklearn.svm.SVC.fit: running accelerated version on CPU\n",
      "SKLEARNEX INFO: sklearn.svm.SVC.predict: running accelerated version on CPU\n",
      "[CV 1/3] END .................C=0.1, gamma=0.01;, score=0.000 total time= 1.2min\n",
      "SKLEARNEX INFO: sklearn.svm.SVC.fit: running accelerated version on CPU\n",
      "SKLEARNEX INFO: sklearn.svm.SVC.fit: running accelerated version on CPU\n",
      "SKLEARNEX INFO: sklearn.svm.SVC.predict: running accelerated version on CPU\n",
      "[CV 2/3] END .................C=0.1, gamma=0.01;, score=0.000 total time= 1.2min\n",
      "SKLEARNEX INFO: sklearn.svm.SVC.fit: running accelerated version on CPU\n",
      "SKLEARNEX INFO: sklearn.svm.SVC.fit: running accelerated version on CPU\n",
      "SKLEARNEX INFO: sklearn.svm.SVC.predict: running accelerated version on CPU\n",
      "[CV 3/3] END .................C=0.1, gamma=0.01;, score=0.000 total time= 1.2min\n",
      "SKLEARNEX INFO: sklearn.svm.SVC.fit: running accelerated version on CPU\n",
      "SKLEARNEX INFO: sklearn.svm.SVC.fit: running accelerated version on CPU\n",
      "SKLEARNEX INFO: sklearn.svm.SVC.predict: running accelerated version on CPU\n",
      "[CV 1/3] END ..................C=0.1, gamma=0.1;, score=0.013 total time= 1.2min\n",
      "SKLEARNEX INFO: sklearn.svm.SVC.fit: running accelerated version on CPU\n",
      "SKLEARNEX INFO: sklearn.svm.SVC.fit: running accelerated version on CPU\n",
      "SKLEARNEX INFO: sklearn.svm.SVC.predict: running accelerated version on CPU\n",
      "[CV 2/3] END ..................C=0.1, gamma=0.1;, score=0.000 total time= 1.2min\n",
      "SKLEARNEX INFO: sklearn.svm.SVC.fit: running accelerated version on CPU\n",
      "SKLEARNEX INFO: sklearn.svm.SVC.fit: running accelerated version on CPU\n",
      "SKLEARNEX INFO: sklearn.svm.SVC.predict: running accelerated version on CPU\n",
      "[CV 3/3] END ..................C=0.1, gamma=0.1;, score=0.029 total time= 1.2min\n",
      "SKLEARNEX INFO: sklearn.svm.SVC.fit: running accelerated version on CPU\n",
      "SKLEARNEX INFO: sklearn.svm.SVC.fit: running accelerated version on CPU\n",
      "SKLEARNEX INFO: sklearn.svm.SVC.predict: running accelerated version on CPU\n",
      "[CV 1/3] END ..................C=0.1, gamma=1.0;, score=0.095 total time= 1.3min\n",
      "SKLEARNEX INFO: sklearn.svm.SVC.fit: running accelerated version on CPU\n",
      "SKLEARNEX INFO: sklearn.svm.SVC.fit: running accelerated version on CPU\n",
      "SKLEARNEX INFO: sklearn.svm.SVC.predict: running accelerated version on CPU\n",
      "[CV 2/3] END ..................C=0.1, gamma=1.0;, score=0.163 total time= 1.2min\n",
      "SKLEARNEX INFO: sklearn.svm.SVC.fit: running accelerated version on CPU\n",
      "SKLEARNEX INFO: sklearn.svm.SVC.fit: running accelerated version on CPU\n",
      "SKLEARNEX INFO: sklearn.svm.SVC.predict: running accelerated version on CPU\n",
      "[CV 3/3] END ..................C=0.1, gamma=1.0;, score=0.129 total time= 1.3min\n",
      "SKLEARNEX INFO: sklearn.svm.SVC.fit: running accelerated version on CPU\n",
      "SKLEARNEX INFO: sklearn.svm.SVC.fit: running accelerated version on CPU\n",
      "SKLEARNEX INFO: sklearn.svm.SVC.predict: running accelerated version on CPU\n",
      "[CV 1/3] END .................C=0.1, gamma=10.0;, score=0.000 total time=15.5min\n",
      "SKLEARNEX INFO: sklearn.svm.SVC.fit: running accelerated version on CPU\n"
     ]
    },
    {
     "name": "stderr",
     "output_type": "stream",
     "text": [
      "C:\\Users\\leone\\anaconda3\\envs\\env\\lib\\site-packages\\joblib\\externals\\loky\\process_executor.py:702: UserWarning: A worker stopped while some jobs were given to the executor. This can be caused by a too short worker timeout or by a memory leak.\n",
      "  warnings.warn(\n"
     ]
    },
    {
     "name": "stdout",
     "output_type": "stream",
     "text": [
      "SKLEARNEX INFO: sklearn.svm.SVC.fit: running accelerated version on CPU\n",
      "SKLEARNEX INFO: sklearn.svm.SVC.predict: running accelerated version on CPU\n",
      "[CV 2/3] END .................C=0.1, gamma=10.0;, score=0.000 total time=15.7min\n",
      "SKLEARNEX INFO: sklearn.svm.SVC.fit: running accelerated version on CPU\n"
     ]
    },
    {
     "name": "stderr",
     "output_type": "stream",
     "text": [
      "C:\\Users\\leone\\anaconda3\\envs\\env\\lib\\site-packages\\joblib\\externals\\loky\\process_executor.py:702: UserWarning: A worker stopped while some jobs were given to the executor. This can be caused by a too short worker timeout or by a memory leak.\n",
      "  warnings.warn(\n"
     ]
    },
    {
     "name": "stdout",
     "output_type": "stream",
     "text": [
      "SKLEARNEX INFO: sklearn.svm.SVC.fit: running accelerated version on CPU\n",
      "SKLEARNEX INFO: sklearn.svm.SVC.predict: running accelerated version on CPU\n",
      "[CV 3/3] END .................C=0.1, gamma=10.0;, score=0.000 total time=15.5min\n",
      "SKLEARNEX INFO: sklearn.svm.SVC.fit: running accelerated version on CPU\n"
     ]
    },
    {
     "name": "stderr",
     "output_type": "stream",
     "text": [
      "C:\\Users\\leone\\anaconda3\\envs\\env\\lib\\site-packages\\joblib\\externals\\loky\\process_executor.py:702: UserWarning: A worker stopped while some jobs were given to the executor. This can be caused by a too short worker timeout or by a memory leak.\n",
      "  warnings.warn(\n"
     ]
    },
    {
     "name": "stdout",
     "output_type": "stream",
     "text": [
      "SKLEARNEX INFO: sklearn.svm.SVC.fit: running accelerated version on CPU\n",
      "SKLEARNEX INFO: sklearn.svm.SVC.predict: running accelerated version on CPU\n",
      "[CV 1/3] END ................C=0.1, gamma=100.0;, score=0.000 total time=10.5min\n",
      "SKLEARNEX INFO: sklearn.svm.SVC.fit: running accelerated version on CPU\n",
      "SKLEARNEX INFO: sklearn.svm.SVC.fit: running accelerated version on CPU\n",
      "SKLEARNEX INFO: sklearn.svm.SVC.predict: running accelerated version on CPU\n",
      "[CV 2/3] END ................C=0.1, gamma=100.0;, score=0.000 total time=10.8min\n",
      "SKLEARNEX INFO: sklearn.svm.SVC.fit: running accelerated version on CPU\n",
      "SKLEARNEX INFO: sklearn.svm.SVC.fit: running accelerated version on CPU\n",
      "SKLEARNEX INFO: sklearn.svm.SVC.predict: running accelerated version on CPU\n",
      "[CV 3/3] END ................C=0.1, gamma=100.0;, score=0.000 total time=13.1min\n",
      "SKLEARNEX INFO: sklearn.svm.SVC.fit: running accelerated version on CPU\n"
     ]
    },
    {
     "name": "stderr",
     "output_type": "stream",
     "text": [
      "C:\\Users\\leone\\anaconda3\\envs\\env\\lib\\site-packages\\joblib\\externals\\loky\\process_executor.py:702: UserWarning: A worker stopped while some jobs were given to the executor. This can be caused by a too short worker timeout or by a memory leak.\n",
      "  warnings.warn(\n"
     ]
    },
    {
     "name": "stdout",
     "output_type": "stream",
     "text": [
      "SKLEARNEX INFO: sklearn.svm.SVC.fit: running accelerated version on CPU\n",
      "SKLEARNEX INFO: sklearn.svm.SVC.predict: running accelerated version on CPU\n",
      "[CV 1/3] END ...............C=0.1, gamma=1000.0;, score=0.000 total time=10.1min\n",
      "SKLEARNEX INFO: sklearn.svm.SVC.fit: running accelerated version on CPU\n",
      "SKLEARNEX INFO: sklearn.svm.SVC.fit: running accelerated version on CPU\n",
      "SKLEARNEX INFO: sklearn.svm.SVC.predict: running accelerated version on CPU\n",
      "[CV 2/3] END ...............C=0.1, gamma=1000.0;, score=0.000 total time=10.5min\n",
      "SKLEARNEX INFO: sklearn.svm.SVC.fit: running accelerated version on CPU\n",
      "SKLEARNEX INFO: sklearn.svm.SVC.fit: running accelerated version on CPU\n",
      "SKLEARNEX INFO: sklearn.svm.SVC.predict: running accelerated version on CPU\n",
      "[CV 3/3] END ...............C=0.1, gamma=1000.0;, score=0.000 total time=10.9min\n",
      "SKLEARNEX INFO: sklearn.svm.SVC.fit: running accelerated version on CPU\n",
      "SKLEARNEX INFO: sklearn.svm.SVC.fit: running accelerated version on CPU\n",
      "SKLEARNEX INFO: sklearn.svm.SVC.predict: running accelerated version on CPU\n",
      "[CV 1/3] END ................C=1.0, gamma=0.001;, score=0.000 total time= 1.3min\n",
      "SKLEARNEX INFO: sklearn.svm.SVC.fit: running accelerated version on CPU\n",
      "SKLEARNEX INFO: sklearn.svm.SVC.fit: running accelerated version on CPU\n",
      "SKLEARNEX INFO: sklearn.svm.SVC.predict: running accelerated version on CPU\n",
      "[CV 2/3] END ................C=1.0, gamma=0.001;, score=0.000 total time= 1.1min\n",
      "SKLEARNEX INFO: sklearn.svm.SVC.fit: running accelerated version on CPU\n",
      "SKLEARNEX INFO: sklearn.svm.SVC.fit: running accelerated version on CPU\n",
      "SKLEARNEX INFO: sklearn.svm.SVC.predict: running accelerated version on CPU\n",
      "[CV 3/3] END ................C=1.0, gamma=0.001;, score=0.000 total time= 1.1min\n",
      "SKLEARNEX INFO: sklearn.svm.SVC.fit: running accelerated version on CPU\n",
      "SKLEARNEX INFO: sklearn.svm.SVC.fit: running accelerated version on CPU\n",
      "SKLEARNEX INFO: sklearn.svm.SVC.predict: running accelerated version on CPU\n",
      "[CV 1/3] END .................C=1.0, gamma=0.01;, score=0.034 total time= 1.2min\n",
      "SKLEARNEX INFO: sklearn.svm.SVC.fit: running accelerated version on CPU\n",
      "SKLEARNEX INFO: sklearn.svm.SVC.fit: running accelerated version on CPU\n",
      "SKLEARNEX INFO: sklearn.svm.SVC.predict: running accelerated version on CPU\n",
      "[CV 2/3] END .................C=1.0, gamma=0.01;, score=0.003 total time= 1.1min\n",
      "SKLEARNEX INFO: sklearn.svm.SVC.fit: running accelerated version on CPU\n",
      "SKLEARNEX INFO: sklearn.svm.SVC.fit: running accelerated version on CPU\n",
      "SKLEARNEX INFO: sklearn.svm.SVC.predict: running accelerated version on CPU\n",
      "[CV 3/3] END .................C=1.0, gamma=0.01;, score=0.050 total time= 1.1min\n",
      "SKLEARNEX INFO: sklearn.svm.SVC.fit: running accelerated version on CPU\n",
      "SKLEARNEX INFO: sklearn.svm.SVC.fit: running accelerated version on CPU\n",
      "SKLEARNEX INFO: sklearn.svm.SVC.predict: running accelerated version on CPU\n",
      "[CV 1/3] END ..................C=1.0, gamma=0.1;, score=0.159 total time=  52.9s\n",
      "SKLEARNEX INFO: sklearn.svm.SVC.fit: running accelerated version on CPU\n",
      "SKLEARNEX INFO: sklearn.svm.SVC.fit: running accelerated version on CPU\n",
      "SKLEARNEX INFO: sklearn.svm.SVC.predict: running accelerated version on CPU\n",
      "[CV 2/3] END ..................C=1.0, gamma=0.1;, score=0.513 total time=  57.7s\n",
      "SKLEARNEX INFO: sklearn.svm.SVC.fit: running accelerated version on CPU\n",
      "SKLEARNEX INFO: sklearn.svm.SVC.fit: running accelerated version on CPU\n",
      "SKLEARNEX INFO: sklearn.svm.SVC.predict: running accelerated version on CPU\n",
      "[CV 3/3] END ..................C=1.0, gamma=0.1;, score=0.374 total time=  57.1s\n",
      "SKLEARNEX INFO: sklearn.svm.SVC.fit: running accelerated version on CPU\n",
      "SKLEARNEX INFO: sklearn.svm.SVC.fit: running accelerated version on CPU\n",
      "SKLEARNEX INFO: sklearn.svm.SVC.predict: running accelerated version on CPU\n",
      "[CV 1/3] END ..................C=1.0, gamma=1.0;, score=0.162 total time= 1.1min\n",
      "SKLEARNEX INFO: sklearn.svm.SVC.fit: running accelerated version on CPU\n",
      "SKLEARNEX INFO: sklearn.svm.SVC.fit: running accelerated version on CPU\n",
      "SKLEARNEX INFO: sklearn.svm.SVC.predict: running accelerated version on CPU\n",
      "[CV 2/3] END ..................C=1.0, gamma=1.0;, score=0.364 total time= 1.2min\n",
      "SKLEARNEX INFO: sklearn.svm.SVC.fit: running accelerated version on CPU\n",
      "SKLEARNEX INFO: sklearn.svm.SVC.fit: running accelerated version on CPU\n",
      "SKLEARNEX INFO: sklearn.svm.SVC.predict: running accelerated version on CPU\n",
      "[CV 3/3] END ..................C=1.0, gamma=1.0;, score=0.303 total time= 1.3min\n",
      "SKLEARNEX INFO: sklearn.svm.SVC.fit: running accelerated version on CPU\n",
      "SKLEARNEX INFO: sklearn.svm.SVC.fit: running accelerated version on CPU\n",
      "SKLEARNEX INFO: sklearn.svm.SVC.predict: running accelerated version on CPU\n",
      "[CV 1/3] END .................C=1.0, gamma=10.0;, score=0.002 total time=19.9min\n",
      "SKLEARNEX INFO: sklearn.svm.SVC.fit: running accelerated version on CPU\n"
     ]
    },
    {
     "name": "stderr",
     "output_type": "stream",
     "text": [
      "C:\\Users\\leone\\anaconda3\\envs\\env\\lib\\site-packages\\joblib\\externals\\loky\\process_executor.py:702: UserWarning: A worker stopped while some jobs were given to the executor. This can be caused by a too short worker timeout or by a memory leak.\n",
      "  warnings.warn(\n"
     ]
    },
    {
     "name": "stdout",
     "output_type": "stream",
     "text": [
      "SKLEARNEX INFO: sklearn.svm.SVC.fit: running accelerated version on CPU\n",
      "SKLEARNEX INFO: sklearn.svm.SVC.predict: running accelerated version on CPU\n",
      "[CV 2/3] END .................C=1.0, gamma=10.0;, score=0.002 total time=20.1min\n",
      "SKLEARNEX INFO: sklearn.svm.SVC.fit: running accelerated version on CPU\n"
     ]
    },
    {
     "name": "stderr",
     "output_type": "stream",
     "text": [
      "C:\\Users\\leone\\anaconda3\\envs\\env\\lib\\site-packages\\joblib\\externals\\loky\\process_executor.py:702: UserWarning: A worker stopped while some jobs were given to the executor. This can be caused by a too short worker timeout or by a memory leak.\n",
      "  warnings.warn(\n"
     ]
    },
    {
     "name": "stdout",
     "output_type": "stream",
     "text": [
      "SKLEARNEX INFO: sklearn.svm.SVC.fit: running accelerated version on CPU\n",
      "SKLEARNEX INFO: sklearn.svm.SVC.predict: running accelerated version on CPU\n",
      "[CV 3/3] END .................C=1.0, gamma=10.0;, score=0.000 total time=20.2min\n",
      "SKLEARNEX INFO: sklearn.svm.SVC.fit: running accelerated version on CPU\n"
     ]
    },
    {
     "name": "stderr",
     "output_type": "stream",
     "text": [
      "C:\\Users\\leone\\anaconda3\\envs\\env\\lib\\site-packages\\joblib\\externals\\loky\\process_executor.py:702: UserWarning: A worker stopped while some jobs were given to the executor. This can be caused by a too short worker timeout or by a memory leak.\n",
      "  warnings.warn(\n"
     ]
    },
    {
     "name": "stdout",
     "output_type": "stream",
     "text": [
      "SKLEARNEX INFO: sklearn.svm.SVC.fit: running accelerated version on CPU\n",
      "SKLEARNEX INFO: sklearn.svm.SVC.predict: running accelerated version on CPU\n",
      "[CV 1/3] END ................C=1.0, gamma=100.0;, score=0.000 total time=22.5min\n",
      "SKLEARNEX INFO: sklearn.svm.SVC.fit: running accelerated version on CPU\n"
     ]
    },
    {
     "name": "stderr",
     "output_type": "stream",
     "text": [
      "C:\\Users\\leone\\anaconda3\\envs\\env\\lib\\site-packages\\joblib\\externals\\loky\\process_executor.py:702: UserWarning: A worker stopped while some jobs were given to the executor. This can be caused by a too short worker timeout or by a memory leak.\n",
      "  warnings.warn(\n"
     ]
    },
    {
     "name": "stdout",
     "output_type": "stream",
     "text": [
      "SKLEARNEX INFO: sklearn.svm.SVC.fit: running accelerated version on CPU\n",
      "SKLEARNEX INFO: sklearn.svm.SVC.predict: running accelerated version on CPU\n",
      "[CV 2/3] END ................C=1.0, gamma=100.0;, score=0.000 total time=22.7min\n",
      "SKLEARNEX INFO: sklearn.svm.SVC.fit: running accelerated version on CPU\n"
     ]
    },
    {
     "name": "stderr",
     "output_type": "stream",
     "text": [
      "C:\\Users\\leone\\anaconda3\\envs\\env\\lib\\site-packages\\joblib\\externals\\loky\\process_executor.py:702: UserWarning: A worker stopped while some jobs were given to the executor. This can be caused by a too short worker timeout or by a memory leak.\n",
      "  warnings.warn(\n"
     ]
    },
    {
     "name": "stdout",
     "output_type": "stream",
     "text": [
      "SKLEARNEX INFO: sklearn.svm.SVC.fit: running accelerated version on CPU\n",
      "SKLEARNEX INFO: sklearn.svm.SVC.predict: running accelerated version on CPU\n",
      "[CV 3/3] END ................C=1.0, gamma=100.0;, score=0.000 total time=17.8min\n",
      "SKLEARNEX INFO: sklearn.svm.SVC.fit: running accelerated version on CPU\n"
     ]
    },
    {
     "name": "stderr",
     "output_type": "stream",
     "text": [
      "C:\\Users\\leone\\anaconda3\\envs\\env\\lib\\site-packages\\joblib\\externals\\loky\\process_executor.py:702: UserWarning: A worker stopped while some jobs were given to the executor. This can be caused by a too short worker timeout or by a memory leak.\n",
      "  warnings.warn(\n"
     ]
    },
    {
     "name": "stdout",
     "output_type": "stream",
     "text": [
      "SKLEARNEX INFO: sklearn.svm.SVC.fit: running accelerated version on CPU\n",
      "SKLEARNEX INFO: sklearn.svm.SVC.predict: running accelerated version on CPU\n",
      "[CV 1/3] END ...............C=1.0, gamma=1000.0;, score=0.000 total time=17.4min\n",
      "SKLEARNEX INFO: sklearn.svm.SVC.fit: running accelerated version on CPU\n"
     ]
    },
    {
     "name": "stderr",
     "output_type": "stream",
     "text": [
      "C:\\Users\\leone\\anaconda3\\envs\\env\\lib\\site-packages\\joblib\\externals\\loky\\process_executor.py:702: UserWarning: A worker stopped while some jobs were given to the executor. This can be caused by a too short worker timeout or by a memory leak.\n",
      "  warnings.warn(\n"
     ]
    },
    {
     "name": "stdout",
     "output_type": "stream",
     "text": [
      "SKLEARNEX INFO: sklearn.svm.SVC.fit: running accelerated version on CPU\n",
      "SKLEARNEX INFO: sklearn.svm.SVC.predict: running accelerated version on CPU\n",
      "[CV 2/3] END ...............C=1.0, gamma=1000.0;, score=0.000 total time=17.5min\n",
      "SKLEARNEX INFO: sklearn.svm.SVC.fit: running accelerated version on CPU\n",
      "SKLEARNEX INFO: sklearn.svm.SVC.fit: running accelerated version on CPU\n",
      "SKLEARNEX INFO: sklearn.svm.SVC.predict: running accelerated version on CPU\n",
      "[CV 3/3] END ...............C=1.0, gamma=1000.0;, score=0.000 total time=16.5min\n",
      "SKLEARNEX INFO: sklearn.svm.SVC.fit: running accelerated version on CPU\n",
      "SKLEARNEX INFO: sklearn.svm.SVC.fit: running accelerated version on CPU\n",
      "SKLEARNEX INFO: sklearn.svm.SVC.predict: running accelerated version on CPU\n",
      "[CV 1/3] END ...............C=10.0, gamma=0.001;, score=0.035 total time= 1.3min\n",
      "SKLEARNEX INFO: sklearn.svm.SVC.fit: running accelerated version on CPU\n",
      "SKLEARNEX INFO: sklearn.svm.SVC.fit: running accelerated version on CPU\n",
      "SKLEARNEX INFO: sklearn.svm.SVC.predict: running accelerated version on CPU\n",
      "[CV 2/3] END ...............C=10.0, gamma=0.001;, score=0.003 total time= 1.1min\n",
      "SKLEARNEX INFO: sklearn.svm.SVC.fit: running accelerated version on CPU\n",
      "SKLEARNEX INFO: sklearn.svm.SVC.fit: running accelerated version on CPU\n",
      "SKLEARNEX INFO: sklearn.svm.SVC.predict: running accelerated version on CPU\n",
      "[CV 3/3] END ...............C=10.0, gamma=0.001;, score=0.052 total time= 1.1min\n",
      "SKLEARNEX INFO: sklearn.svm.SVC.fit: running accelerated version on CPU\n",
      "SKLEARNEX INFO: sklearn.svm.SVC.fit: running accelerated version on CPU\n",
      "SKLEARNEX INFO: sklearn.svm.SVC.predict: running accelerated version on CPU\n",
      "[CV 1/3] END ................C=10.0, gamma=0.01;, score=0.163 total time=  51.8s\n",
      "SKLEARNEX INFO: sklearn.svm.SVC.fit: running accelerated version on CPU\n",
      "SKLEARNEX INFO: sklearn.svm.SVC.fit: running accelerated version on CPU\n",
      "SKLEARNEX INFO: sklearn.svm.SVC.predict: running accelerated version on CPU\n",
      "[CV 2/3] END ................C=10.0, gamma=0.01;, score=0.560 total time= 1.0min\n",
      "SKLEARNEX INFO: sklearn.svm.SVC.fit: running accelerated version on CPU\n",
      "SKLEARNEX INFO: sklearn.svm.SVC.fit: running accelerated version on CPU\n",
      "SKLEARNEX INFO: sklearn.svm.SVC.predict: running accelerated version on CPU\n",
      "[CV 3/3] END ................C=10.0, gamma=0.01;, score=0.395 total time=  57.4s\n",
      "SKLEARNEX INFO: sklearn.svm.SVC.fit: running accelerated version on CPU\n",
      "SKLEARNEX INFO: sklearn.svm.SVC.fit: running accelerated version on CPU\n",
      "SKLEARNEX INFO: sklearn.svm.SVC.predict: running accelerated version on CPU\n",
      "[CV 1/3] END .................C=10.0, gamma=0.1;, score=0.187 total time=  47.1s\n",
      "SKLEARNEX INFO: sklearn.svm.SVC.fit: running accelerated version on CPU\n",
      "SKLEARNEX INFO: sklearn.svm.SVC.fit: running accelerated version on CPU\n",
      "SKLEARNEX INFO: sklearn.svm.SVC.predict: running accelerated version on CPU\n",
      "[CV 2/3] END .................C=10.0, gamma=0.1;, score=0.717 total time=  52.0s\n",
      "SKLEARNEX INFO: sklearn.svm.SVC.fit: running accelerated version on CPU\n",
      "SKLEARNEX INFO: sklearn.svm.SVC.fit: running accelerated version on CPU\n",
      "SKLEARNEX INFO: sklearn.svm.SVC.predict: running accelerated version on CPU\n",
      "[CV 3/3] END .................C=10.0, gamma=0.1;, score=0.581 total time=  50.0s\n",
      "SKLEARNEX INFO: sklearn.svm.SVC.fit: running accelerated version on CPU\n",
      "SKLEARNEX INFO: sklearn.svm.SVC.fit: running accelerated version on CPU\n",
      "SKLEARNEX INFO: sklearn.svm.SVC.predict: running accelerated version on CPU\n",
      "[CV 1/3] END .................C=10.0, gamma=1.0;, score=0.174 total time= 1.1min\n",
      "SKLEARNEX INFO: sklearn.svm.SVC.fit: running accelerated version on CPU\n",
      "SKLEARNEX INFO: sklearn.svm.SVC.fit: running accelerated version on CPU\n",
      "SKLEARNEX INFO: sklearn.svm.SVC.predict: running accelerated version on CPU\n",
      "[CV 2/3] END .................C=10.0, gamma=1.0;, score=0.416 total time= 1.4min\n",
      "SKLEARNEX INFO: sklearn.svm.SVC.fit: running accelerated version on CPU\n",
      "SKLEARNEX INFO: sklearn.svm.SVC.fit: running accelerated version on CPU\n",
      "SKLEARNEX INFO: sklearn.svm.SVC.predict: running accelerated version on CPU\n",
      "[CV 3/3] END .................C=10.0, gamma=1.0;, score=0.319 total time= 1.2min\n",
      "SKLEARNEX INFO: sklearn.svm.SVC.fit: running accelerated version on CPU\n",
      "SKLEARNEX INFO: sklearn.svm.SVC.fit: running accelerated version on CPU\n",
      "SKLEARNEX INFO: sklearn.svm.SVC.predict: running accelerated version on CPU\n",
      "[CV 1/3] END ................C=10.0, gamma=10.0;, score=0.004 total time=22.4min\n",
      "SKLEARNEX INFO: sklearn.svm.SVC.fit: running accelerated version on CPU\n"
     ]
    },
    {
     "name": "stderr",
     "output_type": "stream",
     "text": [
      "C:\\Users\\leone\\anaconda3\\envs\\env\\lib\\site-packages\\joblib\\externals\\loky\\process_executor.py:702: UserWarning: A worker stopped while some jobs were given to the executor. This can be caused by a too short worker timeout or by a memory leak.\n",
      "  warnings.warn(\n"
     ]
    },
    {
     "name": "stdout",
     "output_type": "stream",
     "text": [
      "SKLEARNEX INFO: sklearn.svm.SVC.fit: running accelerated version on CPU\n",
      "SKLEARNEX INFO: sklearn.svm.SVC.predict: running accelerated version on CPU\n",
      "[CV 2/3] END ................C=10.0, gamma=10.0;, score=0.003 total time=22.4min\n",
      "SKLEARNEX INFO: sklearn.svm.SVC.fit: running accelerated version on CPU\n"
     ]
    },
    {
     "name": "stderr",
     "output_type": "stream",
     "text": [
      "C:\\Users\\leone\\anaconda3\\envs\\env\\lib\\site-packages\\joblib\\externals\\loky\\process_executor.py:702: UserWarning: A worker stopped while some jobs were given to the executor. This can be caused by a too short worker timeout or by a memory leak.\n",
      "  warnings.warn(\n"
     ]
    },
    {
     "name": "stdout",
     "output_type": "stream",
     "text": [
      "SKLEARNEX INFO: sklearn.svm.SVC.fit: running accelerated version on CPU\n",
      "SKLEARNEX INFO: sklearn.svm.SVC.predict: running accelerated version on CPU\n",
      "[CV 3/3] END ................C=10.0, gamma=10.0;, score=0.000 total time=21.4min\n",
      "SKLEARNEX INFO: sklearn.svm.SVC.fit: running accelerated version on CPU\n"
     ]
    },
    {
     "name": "stderr",
     "output_type": "stream",
     "text": [
      "C:\\Users\\leone\\anaconda3\\envs\\env\\lib\\site-packages\\joblib\\externals\\loky\\process_executor.py:702: UserWarning: A worker stopped while some jobs were given to the executor. This can be caused by a too short worker timeout or by a memory leak.\n",
      "  warnings.warn(\n"
     ]
    },
    {
     "name": "stdout",
     "output_type": "stream",
     "text": [
      "SKLEARNEX INFO: sklearn.svm.SVC.fit: running accelerated version on CPU\n",
      "SKLEARNEX INFO: sklearn.svm.SVC.predict: running accelerated version on CPU\n",
      "[CV 1/3] END ...............C=10.0, gamma=100.0;, score=0.000 total time=10.7min\n",
      "SKLEARNEX INFO: sklearn.svm.SVC.fit: running accelerated version on CPU\n"
     ]
    },
    {
     "name": "stderr",
     "output_type": "stream",
     "text": [
      "C:\\Users\\leone\\anaconda3\\envs\\env\\lib\\site-packages\\joblib\\externals\\loky\\process_executor.py:702: UserWarning: A worker stopped while some jobs were given to the executor. This can be caused by a too short worker timeout or by a memory leak.\n",
      "  warnings.warn(\n"
     ]
    },
    {
     "name": "stdout",
     "output_type": "stream",
     "text": [
      "SKLEARNEX INFO: sklearn.svm.SVC.fit: running accelerated version on CPU\n",
      "SKLEARNEX INFO: sklearn.svm.SVC.predict: running accelerated version on CPU\n",
      "[CV 2/3] END ...............C=10.0, gamma=100.0;, score=0.000 total time=11.1min\n",
      "SKLEARNEX INFO: sklearn.svm.SVC.fit: running accelerated version on CPU\n",
      "SKLEARNEX INFO: sklearn.svm.SVC.fit: running accelerated version on CPU\n",
      "SKLEARNEX INFO: sklearn.svm.SVC.predict: running accelerated version on CPU\n",
      "[CV 3/3] END ...............C=10.0, gamma=100.0;, score=0.000 total time= 8.8min\n",
      "SKLEARNEX INFO: sklearn.svm.SVC.fit: running accelerated version on CPU\n",
      "SKLEARNEX INFO: sklearn.svm.SVC.fit: running accelerated version on CPU\n",
      "SKLEARNEX INFO: sklearn.svm.SVC.predict: running accelerated version on CPU\n",
      "[CV 1/3] END ..............C=10.0, gamma=1000.0;, score=0.000 total time=10.4min\n",
      "SKLEARNEX INFO: sklearn.svm.SVC.fit: running accelerated version on CPU\n",
      "SKLEARNEX INFO: sklearn.svm.SVC.fit: running accelerated version on CPU\n",
      "SKLEARNEX INFO: sklearn.svm.SVC.predict: running accelerated version on CPU\n",
      "[CV 2/3] END ..............C=10.0, gamma=1000.0;, score=0.000 total time=11.7min\n",
      "SKLEARNEX INFO: sklearn.svm.SVC.fit: running accelerated version on CPU\n",
      "SKLEARNEX INFO: sklearn.svm.SVC.fit: running accelerated version on CPU\n",
      "SKLEARNEX INFO: sklearn.svm.SVC.predict: running accelerated version on CPU\n",
      "[CV 3/3] END ..............C=10.0, gamma=1000.0;, score=0.000 total time=11.8min\n",
      "SKLEARNEX INFO: sklearn.svm.SVC.fit: running accelerated version on CPU\n",
      "[CV 1/3] END ................C=100.0, gamma=0.001;, score=nan total time=  27.6s\n",
      "SKLEARNEX INFO: sklearn.svm.SVC.fit: running accelerated version on CPU\n",
      "SKLEARNEX INFO: sklearn.svm.SVC.fit: running accelerated version on CPU\n",
      "SKLEARNEX INFO: sklearn.svm.SVC.predict: running accelerated version on CPU\n",
      "[CV 2/3] END ..............C=100.0, gamma=0.001;, score=0.558 total time= 1.8min\n",
      "SKLEARNEX INFO: sklearn.svm.SVC.fit: running accelerated version on CPU\n",
      "SKLEARNEX INFO: sklearn.svm.SVC.fit: running accelerated version on CPU\n",
      "SKLEARNEX INFO: sklearn.svm.SVC.predict: running accelerated version on CPU\n",
      "[CV 3/3] END ..............C=100.0, gamma=0.001;, score=0.395 total time= 1.6min\n",
      "SKLEARNEX INFO: sklearn.svm.SVC.fit: running accelerated version on CPU\n",
      "SKLEARNEX INFO: sklearn.svm.SVC.fit: running accelerated version on CPU\n",
      "SKLEARNEX INFO: sklearn.svm.SVC.predict: running accelerated version on CPU\n",
      "[CV 1/3] END ...............C=100.0, gamma=0.01;, score=0.189 total time= 1.3min\n",
      "SKLEARNEX INFO: sklearn.svm.SVC.fit: running accelerated version on CPU\n",
      "SKLEARNEX INFO: sklearn.svm.SVC.fit: running accelerated version on CPU\n",
      "SKLEARNEX INFO: sklearn.svm.SVC.predict: running accelerated version on CPU\n",
      "[CV 2/3] END ...............C=100.0, gamma=0.01;, score=0.727 total time= 1.7min\n",
      "SKLEARNEX INFO: sklearn.svm.SVC.fit: running accelerated version on CPU\n",
      "SKLEARNEX INFO: sklearn.svm.SVC.fit: running accelerated version on CPU\n",
      "SKLEARNEX INFO: sklearn.svm.SVC.predict: running accelerated version on CPU\n",
      "[CV 3/3] END ...............C=100.0, gamma=0.01;, score=0.579 total time= 1.7min\n",
      "SKLEARNEX INFO: sklearn.svm.SVC.fit: running accelerated version on CPU\n",
      "SKLEARNEX INFO: sklearn.svm.SVC.fit: running accelerated version on CPU\n",
      "SKLEARNEX INFO: sklearn.svm.SVC.predict: running accelerated version on CPU\n",
      "[CV 1/3] END ................C=100.0, gamma=0.1;, score=0.184 total time= 1.5min\n",
      "SKLEARNEX INFO: sklearn.svm.SVC.fit: running accelerated version on CPU\n",
      "SKLEARNEX INFO: sklearn.svm.SVC.fit: running accelerated version on CPU\n",
      "SKLEARNEX INFO: sklearn.svm.SVC.predict: running accelerated version on CPU\n",
      "[CV 2/3] END ................C=100.0, gamma=0.1;, score=0.816 total time= 1.4min\n",
      "SKLEARNEX INFO: sklearn.svm.SVC.fit: running accelerated version on CPU\n",
      "SKLEARNEX INFO: sklearn.svm.SVC.fit: running accelerated version on CPU\n",
      "SKLEARNEX INFO: sklearn.svm.SVC.predict: running accelerated version on CPU\n",
      "[CV 3/3] END ................C=100.0, gamma=0.1;, score=0.533 total time= 1.3min\n",
      "SKLEARNEX INFO: sklearn.svm.SVC.fit: running accelerated version on CPU\n",
      "SKLEARNEX INFO: sklearn.svm.SVC.fit: running accelerated version on CPU\n",
      "SKLEARNEX INFO: sklearn.svm.SVC.predict: running accelerated version on CPU\n",
      "[CV 1/3] END ................C=100.0, gamma=1.0;, score=0.174 total time= 1.5min\n",
      "SKLEARNEX INFO: sklearn.svm.SVC.fit: running accelerated version on CPU\n",
      "SKLEARNEX INFO: sklearn.svm.SVC.fit: running accelerated version on CPU\n",
      "SKLEARNEX INFO: sklearn.svm.SVC.predict: running accelerated version on CPU\n",
      "[CV 2/3] END ................C=100.0, gamma=1.0;, score=0.413 total time= 1.9min\n",
      "SKLEARNEX INFO: sklearn.svm.SVC.fit: running accelerated version on CPU\n",
      "SKLEARNEX INFO: sklearn.svm.SVC.fit: running accelerated version on CPU\n",
      "SKLEARNEX INFO: sklearn.svm.SVC.predict: running accelerated version on CPU\n",
      "[CV 3/3] END ................C=100.0, gamma=1.0;, score=0.322 total time= 1.7min\n",
      "SKLEARNEX INFO: sklearn.svm.SVC.fit: running accelerated version on CPU\n"
     ]
    },
    {
     "name": "stderr",
     "output_type": "stream",
     "text": [
      "C:\\Users\\leone\\anaconda3\\envs\\env\\lib\\site-packages\\joblib\\externals\\loky\\process_executor.py:702: UserWarning: A worker stopped while some jobs were given to the executor. This can be caused by a too short worker timeout or by a memory leak.\n",
      "  warnings.warn(\n"
     ]
    },
    {
     "name": "stdout",
     "output_type": "stream",
     "text": [
      "SKLEARNEX INFO: sklearn.svm.SVC.fit: running accelerated version on CPU\n",
      "SKLEARNEX INFO: sklearn.svm.SVC.predict: running accelerated version on CPU\n",
      "[CV 1/3] END ...............C=100.0, gamma=10.0;, score=0.004 total time=32.6min\n",
      "SKLEARNEX INFO: sklearn.svm.SVC.fit: running accelerated version on CPU\n",
      "SKLEARNEX INFO: sklearn.svm.SVC.fit: running accelerated version on CPU\n",
      "SKLEARNEX INFO: sklearn.svm.SVC.predict: running accelerated version on CPU\n",
      "[CV 2/3] END ...............C=100.0, gamma=10.0;, score=0.003 total time=32.1min\n",
      "SKLEARNEX INFO: sklearn.svm.SVC.fit: running accelerated version on CPU\n",
      "SKLEARNEX INFO: sklearn.svm.SVC.fit: running accelerated version on CPU\n",
      "SKLEARNEX INFO: sklearn.svm.SVC.predict: running accelerated version on CPU\n",
      "[CV 3/3] END ...............C=100.0, gamma=10.0;, score=0.000 total time=30.5min\n",
      "SKLEARNEX INFO: sklearn.svm.SVC.fit: running accelerated version on CPU\n",
      "SKLEARNEX INFO: sklearn.svm.SVC.fit: running accelerated version on CPU\n",
      "SKLEARNEX INFO: sklearn.svm.SVC.predict: running accelerated version on CPU\n",
      "[CV 1/3] END ..............C=100.0, gamma=100.0;, score=0.000 total time=13.6min\n",
      "SKLEARNEX INFO: sklearn.svm.SVC.fit: running accelerated version on CPU\n"
     ]
    },
    {
     "name": "stderr",
     "output_type": "stream",
     "text": [
      "C:\\Users\\leone\\anaconda3\\envs\\env\\lib\\site-packages\\joblib\\externals\\loky\\process_executor.py:702: UserWarning: A worker stopped while some jobs were given to the executor. This can be caused by a too short worker timeout or by a memory leak.\n",
      "  warnings.warn(\n"
     ]
    },
    {
     "name": "stdout",
     "output_type": "stream",
     "text": [
      "SKLEARNEX INFO: sklearn.svm.SVC.fit: running accelerated version on CPU\n",
      "SKLEARNEX INFO: sklearn.svm.SVC.predict: running accelerated version on CPU\n",
      "[CV 2/3] END ..............C=100.0, gamma=100.0;, score=0.000 total time=13.7min\n",
      "SKLEARNEX INFO: sklearn.svm.SVC.fit: running accelerated version on CPU\n"
     ]
    },
    {
     "name": "stderr",
     "output_type": "stream",
     "text": [
      "C:\\Users\\leone\\anaconda3\\envs\\env\\lib\\site-packages\\joblib\\externals\\loky\\process_executor.py:702: UserWarning: A worker stopped while some jobs were given to the executor. This can be caused by a too short worker timeout or by a memory leak.\n",
      "  warnings.warn(\n"
     ]
    },
    {
     "name": "stdout",
     "output_type": "stream",
     "text": [
      "SKLEARNEX INFO: sklearn.svm.SVC.fit: running accelerated version on CPU\n",
      "SKLEARNEX INFO: sklearn.svm.SVC.predict: running accelerated version on CPU\n",
      "[CV 3/3] END ..............C=100.0, gamma=100.0;, score=0.000 total time=11.2min\n",
      "SKLEARNEX INFO: sklearn.svm.SVC.fit: running accelerated version on CPU\n",
      "[CV 1/3] END ...............C=100.0, gamma=1000.0;, score=nan total time= 6.8min\n",
      "SKLEARNEX INFO: sklearn.svm.SVC.fit: running accelerated version on CPU\n",
      "[CV 2/3] END ...............C=100.0, gamma=1000.0;, score=nan total time= 8.7min\n",
      "SKLEARNEX INFO: sklearn.svm.SVC.fit: running accelerated version on CPU\n",
      "SKLEARNEX INFO: sklearn.svm.SVC.fit: running accelerated version on CPU\n",
      "SKLEARNEX INFO: sklearn.svm.SVC.predict: running accelerated version on CPU\n",
      "[CV 3/3] END .............C=100.0, gamma=1000.0;, score=0.000 total time=10.4min\n",
      "SKLEARNEX INFO: sklearn.svm.SVC.fit: running accelerated version on CPU\n",
      "[CV 1/3] END ...............C=1000.0, gamma=0.001;, score=nan total time=  25.9s\n",
      "SKLEARNEX INFO: sklearn.svm.SVC.fit: running accelerated version on CPU\n",
      "[CV 2/3] END ...............C=1000.0, gamma=0.001;, score=nan total time= 1.2min\n",
      "SKLEARNEX INFO: sklearn.svm.SVC.fit: running accelerated version on CPU\n",
      "SKLEARNEX INFO: sklearn.svm.SVC.fit: running accelerated version on CPU\n",
      "SKLEARNEX INFO: sklearn.svm.SVC.predict: running accelerated version on CPU\n",
      "[CV 3/3] END .............C=1000.0, gamma=0.001;, score=0.584 total time= 1.5min\n",
      "SKLEARNEX INFO: sklearn.svm.SVC.fit: running accelerated version on CPU\n",
      "SKLEARNEX INFO: sklearn.svm.SVC.fit: running accelerated version on CPU\n",
      "SKLEARNEX INFO: sklearn.svm.SVC.predict: running accelerated version on CPU\n",
      "[CV 1/3] END ..............C=1000.0, gamma=0.01;, score=0.172 total time= 1.0min\n",
      "SKLEARNEX INFO: sklearn.svm.SVC.fit: running accelerated version on CPU\n",
      "SKLEARNEX INFO: sklearn.svm.SVC.fit: running accelerated version on CPU\n",
      "SKLEARNEX INFO: sklearn.svm.SVC.predict: running accelerated version on CPU\n",
      "[CV 2/3] END ..............C=1000.0, gamma=0.01;, score=0.834 total time= 1.3min\n",
      "SKLEARNEX INFO: sklearn.svm.SVC.fit: running accelerated version on CPU\n",
      "SKLEARNEX INFO: sklearn.svm.SVC.fit: running accelerated version on CPU\n",
      "SKLEARNEX INFO: sklearn.svm.SVC.predict: running accelerated version on CPU\n",
      "[CV 3/3] END ..............C=1000.0, gamma=0.01;, score=0.592 total time= 1.2min\n",
      "SKLEARNEX INFO: sklearn.svm.SVC.fit: running accelerated version on CPU\n",
      "[CV 1/3] END .................C=1000.0, gamma=0.1;, score=nan total time=  21.4s\n",
      "SKLEARNEX INFO: sklearn.svm.SVC.fit: running accelerated version on CPU\n",
      "[CV 2/3] END .................C=1000.0, gamma=0.1;, score=nan total time=  52.5s\n",
      "SKLEARNEX INFO: sklearn.svm.SVC.fit: running accelerated version on CPU\n",
      "[CV 3/3] END .................C=1000.0, gamma=0.1;, score=nan total time=  50.3s\n",
      "SKLEARNEX INFO: sklearn.svm.SVC.fit: running accelerated version on CPU\n",
      "[CV 1/3] END .................C=1000.0, gamma=1.0;, score=nan total time=  58.2s\n",
      "SKLEARNEX INFO: sklearn.svm.SVC.fit: running accelerated version on CPU\n",
      "[CV 2/3] END .................C=1000.0, gamma=1.0;, score=nan total time= 1.3min\n",
      "SKLEARNEX INFO: sklearn.svm.SVC.fit: running accelerated version on CPU\n",
      "[CV 3/3] END .................C=1000.0, gamma=1.0;, score=nan total time=  37.4s\n",
      "SKLEARNEX INFO: sklearn.svm.SVC.fit: running accelerated version on CPU\n",
      "[CV 1/3] END ................C=1000.0, gamma=10.0;, score=nan total time=16.1min\n",
      "SKLEARNEX INFO: sklearn.svm.SVC.fit: running accelerated version on CPU\n",
      "[CV 2/3] END ................C=1000.0, gamma=10.0;, score=nan total time=16.3min\n",
      "SKLEARNEX INFO: sklearn.svm.SVC.fit: running accelerated version on CPU\n",
      "[CV 3/3] END ................C=1000.0, gamma=10.0;, score=nan total time=12.8min\n",
      "SKLEARNEX INFO: sklearn.svm.SVC.fit: running accelerated version on CPU\n",
      "[CV 1/3] END ...............C=1000.0, gamma=100.0;, score=nan total time= 5.9min\n",
      "SKLEARNEX INFO: sklearn.svm.SVC.fit: running accelerated version on CPU\n",
      "[CV 2/3] END ...............C=1000.0, gamma=100.0;, score=nan total time= 7.4min\n",
      "SKLEARNEX INFO: sklearn.svm.SVC.fit: running accelerated version on CPU\n",
      "[CV 3/3] END ...............C=1000.0, gamma=100.0;, score=nan total time= 5.4min\n",
      "SKLEARNEX INFO: sklearn.svm.SVC.fit: running accelerated version on CPU\n",
      "[CV 1/3] END ..............C=1000.0, gamma=1000.0;, score=nan total time= 4.7min\n",
      "SKLEARNEX INFO: sklearn.svm.SVC.fit: running accelerated version on CPU\n",
      "[CV 2/3] END ..............C=1000.0, gamma=1000.0;, score=nan total time= 4.9min\n",
      "SKLEARNEX INFO: sklearn.svm.SVC.fit: running accelerated version on CPU\n",
      "[CV 3/3] END ..............C=1000.0, gamma=1000.0;, score=nan total time= 4.8min\n",
      "SKLEARNEX INFO: sklearn.svm.SVC.fit: running accelerated version on CPU\n"
     ]
    },
    {
     "name": "stderr",
     "output_type": "stream",
     "text": [
      "C:\\Users\\leone\\anaconda3\\envs\\env\\lib\\site-packages\\sklearn\\model_selection\\_validation.py:372: FitFailedWarning: \n",
      "20 fits failed out of a total of 147.\n",
      "The score on these train-test partitions for these parameters will be set to nan.\n",
      "If these failures are not expected, you can try to debug them by setting error_score='raise'.\n",
      "\n",
      "Below are more details about the failures:\n",
      "--------------------------------------------------------------------------------\n",
      "4 fits failed with the following error:\n",
      "joblib.externals.loky.process_executor._RemoteTraceback: \n",
      "\"\"\"\n",
      "Traceback (most recent call last):\n",
      "  File \"C:\\Users\\leone\\anaconda3\\envs\\env\\lib\\site-packages\\joblib\\externals\\loky\\process_executor.py\", line 436, in _process_worker\n",
      "    r = call_item()\n",
      "  File \"C:\\Users\\leone\\anaconda3\\envs\\env\\lib\\site-packages\\joblib\\externals\\loky\\process_executor.py\", line 288, in __call__\n",
      "    return self.fn(*self.args, **self.kwargs)\n",
      "  File \"C:\\Users\\leone\\anaconda3\\envs\\env\\lib\\site-packages\\joblib\\_parallel_backends.py\", line 595, in __call__\n",
      "    return self.func(*args, **kwargs)\n",
      "  File \"C:\\Users\\leone\\anaconda3\\envs\\env\\lib\\site-packages\\joblib\\parallel.py\", line 262, in __call__\n",
      "    return [func(*args, **kwargs)\n",
      "  File \"C:\\Users\\leone\\anaconda3\\envs\\env\\lib\\site-packages\\joblib\\parallel.py\", line 262, in <listcomp>\n",
      "    return [func(*args, **kwargs)\n",
      "  File \"C:\\Users\\leone\\anaconda3\\envs\\env\\lib\\site-packages\\sklearn\\utils\\fixes.py\", line 216, in __call__\n",
      "    return self.function(*args, **kwargs)\n",
      "  File \"C:\\Users\\leone\\anaconda3\\envs\\env\\lib\\site-packages\\sklearn\\model_selection\\_validation.py\", line 1044, in _fit_and_predict\n",
      "    estimator.fit(X_train, y_train, **fit_params)\n",
      "  File \"C:\\Users\\leone\\anaconda3\\envs\\env\\lib\\site-packages\\sklearnex\\svm\\svc.py\", line 81, in fit\n",
      "    dispatch(self, 'svm.SVC.fit', {\n",
      "  File \"C:\\Users\\leone\\anaconda3\\envs\\env\\lib\\site-packages\\sklearnex\\_device_offload.py\", line 153, in dispatch\n",
      "    return branches[backend](obj, *hostargs, **hostkwargs, queue=q)\n",
      "  File \"C:\\Users\\leone\\anaconda3\\envs\\env\\lib\\site-packages\\sklearnex\\svm\\svc.py\", line 208, in _onedal_fit\n",
      "    self._onedal_estimator.fit(X, y, sample_weight, queue=queue)\n",
      "  File \"C:\\Users\\leone\\anaconda3\\envs\\env\\lib\\site-packages\\onedal\\svm\\svm.py\", line 394, in fit\n",
      "    return super()._fit(X, y, sample_weight, _backend.svm.classification, queue)\n",
      "  File \"C:\\Users\\leone\\anaconda3\\envs\\env\\lib\\site-packages\\onedal\\svm\\svm.py\", line 210, in _fit\n",
      "    result = module.train(policy, params, *to_table(X, y, sample_weight))\n",
      "MemoryError: bad allocation\n",
      "\"\"\"\n",
      "\n",
      "The above exception was the direct cause of the following exception:\n",
      "\n",
      "Traceback (most recent call last):\n",
      "  File \"C:\\Users\\leone\\anaconda3\\envs\\env\\lib\\site-packages\\sklearn\\model_selection\\_validation.py\", line 680, in _fit_and_score\n",
      "    estimator.fit(X_train, y_train, **fit_params)\n",
      "  File \"C:\\Users\\leone\\anaconda3\\envs\\env\\lib\\site-packages\\sklearnex\\svm\\svc.py\", line 81, in fit\n",
      "    dispatch(self, 'svm.SVC.fit', {\n",
      "  File \"C:\\Users\\leone\\anaconda3\\envs\\env\\lib\\site-packages\\sklearnex\\_device_offload.py\", line 153, in dispatch\n",
      "    return branches[backend](obj, *hostargs, **hostkwargs, queue=q)\n",
      "  File \"C:\\Users\\leone\\anaconda3\\envs\\env\\lib\\site-packages\\sklearnex\\svm\\svc.py\", line 216, in _onedal_fit\n",
      "    self._fit_proba(X, y, sample_weight, queue=queue)\n",
      "  File \"C:\\Users\\leone\\anaconda3\\envs\\env\\lib\\site-packages\\sklearnex\\svm\\_common.py\", line 93, in _fit_proba\n",
      "    self.clf_prob.fit(X, y, sample_weight)\n",
      "  File \"C:\\Users\\leone\\anaconda3\\envs\\env\\lib\\site-packages\\sklearn\\calibration.py\", line 373, in fit\n",
      "    predictions = _compute_predictions(\n",
      "  File \"C:\\Users\\leone\\anaconda3\\envs\\env\\lib\\site-packages\\sklearn\\calibration.py\", line 577, in _compute_predictions\n",
      "    predictions = pred_method(X=X)\n",
      "  File \"C:\\Users\\leone\\anaconda3\\envs\\env\\lib\\site-packages\\sklearn\\model_selection\\_validation.py\", line 962, in cross_val_predict\n",
      "    predictions = parallel(\n",
      "  File \"C:\\Users\\leone\\anaconda3\\envs\\env\\lib\\site-packages\\joblib\\parallel.py\", line 1056, in __call__\n",
      "    self.retrieve()\n",
      "  File \"C:\\Users\\leone\\anaconda3\\envs\\env\\lib\\site-packages\\joblib\\parallel.py\", line 935, in retrieve\n",
      "    self._output.extend(job.get(timeout=self.timeout))\n",
      "  File \"C:\\Users\\leone\\anaconda3\\envs\\env\\lib\\site-packages\\joblib\\_parallel_backends.py\", line 542, in wrap_future_result\n",
      "    return future.result(timeout=timeout)\n",
      "  File \"C:\\Users\\leone\\anaconda3\\envs\\env\\lib\\concurrent\\futures\\_base.py\", line 445, in result\n",
      "    return self.__get_result()\n",
      "  File \"C:\\Users\\leone\\anaconda3\\envs\\env\\lib\\concurrent\\futures\\_base.py\", line 390, in __get_result\n",
      "    raise self._exception\n",
      "MemoryError: bad allocation\n",
      "\n",
      "--------------------------------------------------------------------------------\n",
      "16 fits failed with the following error:\n",
      "joblib.externals.loky.process_executor._RemoteTraceback: \n",
      "\"\"\"\n",
      "Traceback (most recent call last):\n",
      "  File \"C:\\Users\\leone\\anaconda3\\envs\\env\\lib\\site-packages\\joblib\\externals\\loky\\process_executor.py\", line 436, in _process_worker\n",
      "    r = call_item()\n",
      "  File \"C:\\Users\\leone\\anaconda3\\envs\\env\\lib\\site-packages\\joblib\\externals\\loky\\process_executor.py\", line 288, in __call__\n",
      "    return self.fn(*self.args, **self.kwargs)\n",
      "  File \"C:\\Users\\leone\\anaconda3\\envs\\env\\lib\\site-packages\\joblib\\_parallel_backends.py\", line 595, in __call__\n",
      "    return self.func(*args, **kwargs)\n",
      "  File \"C:\\Users\\leone\\anaconda3\\envs\\env\\lib\\site-packages\\joblib\\parallel.py\", line 262, in __call__\n",
      "    return [func(*args, **kwargs)\n",
      "  File \"C:\\Users\\leone\\anaconda3\\envs\\env\\lib\\site-packages\\joblib\\parallel.py\", line 262, in <listcomp>\n",
      "    return [func(*args, **kwargs)\n",
      "  File \"C:\\Users\\leone\\anaconda3\\envs\\env\\lib\\site-packages\\sklearn\\utils\\fixes.py\", line 216, in __call__\n",
      "    return self.function(*args, **kwargs)\n",
      "  File \"C:\\Users\\leone\\anaconda3\\envs\\env\\lib\\site-packages\\sklearn\\model_selection\\_validation.py\", line 1044, in _fit_and_predict\n",
      "    estimator.fit(X_train, y_train, **fit_params)\n",
      "  File \"C:\\Users\\leone\\anaconda3\\envs\\env\\lib\\site-packages\\sklearnex\\svm\\svc.py\", line 81, in fit\n",
      "    dispatch(self, 'svm.SVC.fit', {\n",
      "  File \"C:\\Users\\leone\\anaconda3\\envs\\env\\lib\\site-packages\\sklearnex\\_device_offload.py\", line 153, in dispatch\n",
      "    return branches[backend](obj, *hostargs, **hostkwargs, queue=q)\n",
      "  File \"C:\\Users\\leone\\anaconda3\\envs\\env\\lib\\site-packages\\sklearnex\\svm\\svc.py\", line 208, in _onedal_fit\n",
      "    self._onedal_estimator.fit(X, y, sample_weight, queue=queue)\n",
      "  File \"C:\\Users\\leone\\anaconda3\\envs\\env\\lib\\site-packages\\onedal\\svm\\svm.py\", line 394, in fit\n",
      "    return super()._fit(X, y, sample_weight, _backend.svm.classification, queue)\n",
      "  File \"C:\\Users\\leone\\anaconda3\\envs\\env\\lib\\site-packages\\onedal\\svm\\svm.py\", line 210, in _fit\n",
      "    result = module.train(policy, params, *to_table(X, y, sample_weight))\n",
      "MemoryError: bad allocation\n",
      "\"\"\"\n",
      "\n",
      "The above exception was the direct cause of the following exception:\n",
      "\n",
      "Traceback (most recent call last):\n",
      "  File \"C:\\Users\\leone\\anaconda3\\envs\\env\\lib\\site-packages\\sklearn\\model_selection\\_validation.py\", line 680, in _fit_and_score\n",
      "    estimator.fit(X_train, y_train, **fit_params)\n",
      "  File \"C:\\Users\\leone\\anaconda3\\envs\\env\\lib\\site-packages\\sklearnex\\svm\\svc.py\", line 81, in fit\n",
      "    dispatch(self, 'svm.SVC.fit', {\n",
      "  File \"C:\\Users\\leone\\anaconda3\\envs\\env\\lib\\site-packages\\sklearnex\\_device_offload.py\", line 153, in dispatch\n",
      "    return branches[backend](obj, *hostargs, **hostkwargs, queue=q)\n",
      "  File \"C:\\Users\\leone\\anaconda3\\envs\\env\\lib\\site-packages\\sklearnex\\svm\\svc.py\", line 216, in _onedal_fit\n",
      "    self._fit_proba(X, y, sample_weight, queue=queue)\n",
      "  File \"C:\\Users\\leone\\anaconda3\\envs\\env\\lib\\site-packages\\sklearnex\\svm\\_common.py\", line 93, in _fit_proba\n",
      "    self.clf_prob.fit(X, y, sample_weight)\n",
      "  File \"C:\\Users\\leone\\anaconda3\\envs\\env\\lib\\site-packages\\sklearn\\calibration.py\", line 373, in fit\n",
      "    predictions = _compute_predictions(\n",
      "  File \"C:\\Users\\leone\\anaconda3\\envs\\env\\lib\\site-packages\\sklearn\\calibration.py\", line 577, in _compute_predictions\n",
      "    predictions = pred_method(X=X)\n",
      "  File \"C:\\Users\\leone\\anaconda3\\envs\\env\\lib\\site-packages\\sklearn\\model_selection\\_validation.py\", line 962, in cross_val_predict\n",
      "    predictions = parallel(\n",
      "  File \"C:\\Users\\leone\\anaconda3\\envs\\env\\lib\\site-packages\\joblib\\parallel.py\", line 1056, in __call__\n",
      "    self.retrieve()\n",
      "  File \"C:\\Users\\leone\\anaconda3\\envs\\env\\lib\\site-packages\\joblib\\parallel.py\", line 935, in retrieve\n",
      "    self._output.extend(job.get(timeout=self.timeout))\n",
      "  File \"C:\\Users\\leone\\anaconda3\\envs\\env\\lib\\site-packages\\joblib\\_parallel_backends.py\", line 542, in wrap_future_result\n",
      "    return future.result(timeout=timeout)\n",
      "  File \"C:\\Users\\leone\\anaconda3\\envs\\env\\lib\\concurrent\\futures\\_base.py\", line 438, in result\n",
      "    return self.__get_result()\n",
      "  File \"C:\\Users\\leone\\anaconda3\\envs\\env\\lib\\concurrent\\futures\\_base.py\", line 390, in __get_result\n",
      "    raise self._exception\n",
      "MemoryError: bad allocation\n",
      "\n",
      "  warnings.warn(some_fits_failed_message, FitFailedWarning)\n",
      "C:\\Users\\leone\\anaconda3\\envs\\env\\lib\\site-packages\\sklearn\\model_selection\\_search.py:969: UserWarning: One or more of the test scores are non-finite: [0.         0.         0.         0.         0.         0.\n",
      " 0.         0.         0.         0.         0.         0.\n",
      " 0.         0.         0.         0.         0.01374655 0.12905504\n",
      " 0.         0.         0.         0.         0.02890664 0.34872162\n",
      " 0.2764362  0.00141093 0.         0.         0.02996409 0.37270005\n",
      " 0.49538575 0.30288563 0.00246914 0.         0.                nan\n",
      " 0.4985611  0.51092319 0.30288451 0.00246914 0.                nan\n",
      "        nan 0.53277179        nan        nan        nan        nan\n",
      "        nan]\n",
      "  warnings.warn(\n"
     ]
    },
    {
     "ename": "MemoryError",
     "evalue": "bad allocation",
     "output_type": "error",
     "traceback": [
      "\u001B[1;31m---------------------------------------------------------------------------\u001B[0m",
      "\u001B[1;31m_RemoteTraceback\u001B[0m                          Traceback (most recent call last)",
      "\u001B[1;31m_RemoteTraceback\u001B[0m: \n\"\"\"\nTraceback (most recent call last):\n  File \"C:\\Users\\leone\\anaconda3\\envs\\env\\lib\\site-packages\\joblib\\externals\\loky\\process_executor.py\", line 436, in _process_worker\n    r = call_item()\n  File \"C:\\Users\\leone\\anaconda3\\envs\\env\\lib\\site-packages\\joblib\\externals\\loky\\process_executor.py\", line 288, in __call__\n    return self.fn(*self.args, **self.kwargs)\n  File \"C:\\Users\\leone\\anaconda3\\envs\\env\\lib\\site-packages\\joblib\\_parallel_backends.py\", line 595, in __call__\n    return self.func(*args, **kwargs)\n  File \"C:\\Users\\leone\\anaconda3\\envs\\env\\lib\\site-packages\\joblib\\parallel.py\", line 262, in __call__\n    return [func(*args, **kwargs)\n  File \"C:\\Users\\leone\\anaconda3\\envs\\env\\lib\\site-packages\\joblib\\parallel.py\", line 262, in <listcomp>\n    return [func(*args, **kwargs)\n  File \"C:\\Users\\leone\\anaconda3\\envs\\env\\lib\\site-packages\\sklearn\\utils\\fixes.py\", line 216, in __call__\n    return self.function(*args, **kwargs)\n  File \"C:\\Users\\leone\\anaconda3\\envs\\env\\lib\\site-packages\\sklearn\\model_selection\\_validation.py\", line 1044, in _fit_and_predict\n    estimator.fit(X_train, y_train, **fit_params)\n  File \"C:\\Users\\leone\\anaconda3\\envs\\env\\lib\\site-packages\\sklearnex\\svm\\svc.py\", line 81, in fit\n    dispatch(self, 'svm.SVC.fit', {\n  File \"C:\\Users\\leone\\anaconda3\\envs\\env\\lib\\site-packages\\sklearnex\\_device_offload.py\", line 153, in dispatch\n    return branches[backend](obj, *hostargs, **hostkwargs, queue=q)\n  File \"C:\\Users\\leone\\anaconda3\\envs\\env\\lib\\site-packages\\sklearnex\\svm\\svc.py\", line 208, in _onedal_fit\n    self._onedal_estimator.fit(X, y, sample_weight, queue=queue)\n  File \"C:\\Users\\leone\\anaconda3\\envs\\env\\lib\\site-packages\\onedal\\svm\\svm.py\", line 394, in fit\n    return super()._fit(X, y, sample_weight, _backend.svm.classification, queue)\n  File \"C:\\Users\\leone\\anaconda3\\envs\\env\\lib\\site-packages\\onedal\\svm\\svm.py\", line 210, in _fit\n    result = module.train(policy, params, *to_table(X, y, sample_weight))\nMemoryError: bad allocation\n\"\"\"",
      "\nThe above exception was the direct cause of the following exception:\n",
      "\u001B[1;31mMemoryError\u001B[0m                               Traceback (most recent call last)",
      "\u001B[1;32m~\\AppData\\Local\\Temp/ipykernel_19648/2208982316.py\u001B[0m in \u001B[0;36m<module>\u001B[1;34m\u001B[0m\n\u001B[0;32m      7\u001B[0m \u001B[1;33m\u001B[0m\u001B[0m\n\u001B[0;32m      8\u001B[0m \u001B[0mbest_model\u001B[0m \u001B[1;33m=\u001B[0m \u001B[0mGridSearchCV\u001B[0m\u001B[1;33m(\u001B[0m\u001B[0msvc\u001B[0m\u001B[1;33m,\u001B[0m \u001B[0mparam_grid\u001B[0m\u001B[1;33m,\u001B[0m \u001B[0mcv\u001B[0m\u001B[1;33m=\u001B[0m \u001B[1;36m3\u001B[0m\u001B[1;33m,\u001B[0m \u001B[0mscoring\u001B[0m \u001B[1;33m=\u001B[0m \u001B[1;34m'recall'\u001B[0m\u001B[1;33m,\u001B[0m \u001B[0mverbose\u001B[0m \u001B[1;33m=\u001B[0m \u001B[1;36m3\u001B[0m\u001B[1;33m)\u001B[0m\u001B[1;33m\u001B[0m\u001B[1;33m\u001B[0m\u001B[0m\n\u001B[1;32m----> 9\u001B[1;33m \u001B[0mbest_model\u001B[0m\u001B[1;33m.\u001B[0m\u001B[0mfit\u001B[0m\u001B[1;33m(\u001B[0m\u001B[0mX_sparse\u001B[0m\u001B[1;33m,\u001B[0m \u001B[0my_train\u001B[0m\u001B[1;33m)\u001B[0m\u001B[1;33m\u001B[0m\u001B[1;33m\u001B[0m\u001B[0m\n\u001B[0m\u001B[0;32m     10\u001B[0m \u001B[0mbest_model\u001B[0m\u001B[1;33m.\u001B[0m\u001B[0mscore\u001B[0m\u001B[1;33m(\u001B[0m\u001B[0mX_sparse\u001B[0m\u001B[1;33m,\u001B[0m \u001B[0my_train\u001B[0m\u001B[1;33m)\u001B[0m\u001B[1;33m\u001B[0m\u001B[1;33m\u001B[0m\u001B[0m\n",
      "\u001B[1;32m~\\anaconda3\\envs\\env\\lib\\site-packages\\sklearn\\model_selection\\_search.py\u001B[0m in \u001B[0;36mfit\u001B[1;34m(self, X, y, groups, **fit_params)\u001B[0m\n\u001B[0;32m    924\u001B[0m             \u001B[0mrefit_start_time\u001B[0m \u001B[1;33m=\u001B[0m \u001B[0mtime\u001B[0m\u001B[1;33m.\u001B[0m\u001B[0mtime\u001B[0m\u001B[1;33m(\u001B[0m\u001B[1;33m)\u001B[0m\u001B[1;33m\u001B[0m\u001B[1;33m\u001B[0m\u001B[0m\n\u001B[0;32m    925\u001B[0m             \u001B[1;32mif\u001B[0m \u001B[0my\u001B[0m \u001B[1;32mis\u001B[0m \u001B[1;32mnot\u001B[0m \u001B[1;32mNone\u001B[0m\u001B[1;33m:\u001B[0m\u001B[1;33m\u001B[0m\u001B[1;33m\u001B[0m\u001B[0m\n\u001B[1;32m--> 926\u001B[1;33m                 \u001B[0mself\u001B[0m\u001B[1;33m.\u001B[0m\u001B[0mbest_estimator_\u001B[0m\u001B[1;33m.\u001B[0m\u001B[0mfit\u001B[0m\u001B[1;33m(\u001B[0m\u001B[0mX\u001B[0m\u001B[1;33m,\u001B[0m \u001B[0my\u001B[0m\u001B[1;33m,\u001B[0m \u001B[1;33m**\u001B[0m\u001B[0mfit_params\u001B[0m\u001B[1;33m)\u001B[0m\u001B[1;33m\u001B[0m\u001B[1;33m\u001B[0m\u001B[0m\n\u001B[0m\u001B[0;32m    927\u001B[0m             \u001B[1;32melse\u001B[0m\u001B[1;33m:\u001B[0m\u001B[1;33m\u001B[0m\u001B[1;33m\u001B[0m\u001B[0m\n\u001B[0;32m    928\u001B[0m                 \u001B[0mself\u001B[0m\u001B[1;33m.\u001B[0m\u001B[0mbest_estimator_\u001B[0m\u001B[1;33m.\u001B[0m\u001B[0mfit\u001B[0m\u001B[1;33m(\u001B[0m\u001B[0mX\u001B[0m\u001B[1;33m,\u001B[0m \u001B[1;33m**\u001B[0m\u001B[0mfit_params\u001B[0m\u001B[1;33m)\u001B[0m\u001B[1;33m\u001B[0m\u001B[1;33m\u001B[0m\u001B[0m\n",
      "\u001B[1;32m~\\anaconda3\\envs\\env\\lib\\site-packages\\sklearnex\\svm\\svc.py\u001B[0m in \u001B[0;36mfit\u001B[1;34m(self, X, y, sample_weight)\u001B[0m\n\u001B[0;32m     79\u001B[0m         \u001B[1;32mif\u001B[0m \u001B[0mLooseVersion\u001B[0m\u001B[1;33m(\u001B[0m\u001B[0msklearn_version\u001B[0m\u001B[1;33m)\u001B[0m \u001B[1;33m>=\u001B[0m \u001B[0mLooseVersion\u001B[0m\u001B[1;33m(\u001B[0m\u001B[1;34m\"1.0\"\u001B[0m\u001B[1;33m)\u001B[0m\u001B[1;33m:\u001B[0m\u001B[1;33m\u001B[0m\u001B[1;33m\u001B[0m\u001B[0m\n\u001B[0;32m     80\u001B[0m             \u001B[0mself\u001B[0m\u001B[1;33m.\u001B[0m\u001B[0m_check_feature_names\u001B[0m\u001B[1;33m(\u001B[0m\u001B[0mX\u001B[0m\u001B[1;33m,\u001B[0m \u001B[0mreset\u001B[0m\u001B[1;33m=\u001B[0m\u001B[1;32mTrue\u001B[0m\u001B[1;33m)\u001B[0m\u001B[1;33m\u001B[0m\u001B[1;33m\u001B[0m\u001B[0m\n\u001B[1;32m---> 81\u001B[1;33m         dispatch(self, 'svm.SVC.fit', {\n\u001B[0m\u001B[0;32m     82\u001B[0m             \u001B[1;34m'onedal'\u001B[0m\u001B[1;33m:\u001B[0m \u001B[0mself\u001B[0m\u001B[1;33m.\u001B[0m\u001B[0m__class__\u001B[0m\u001B[1;33m.\u001B[0m\u001B[0m_onedal_fit\u001B[0m\u001B[1;33m,\u001B[0m\u001B[1;33m\u001B[0m\u001B[1;33m\u001B[0m\u001B[0m\n\u001B[0;32m     83\u001B[0m             \u001B[1;34m'sklearn'\u001B[0m\u001B[1;33m:\u001B[0m \u001B[0msklearn_SVC\u001B[0m\u001B[1;33m.\u001B[0m\u001B[0mfit\u001B[0m\u001B[1;33m,\u001B[0m\u001B[1;33m\u001B[0m\u001B[1;33m\u001B[0m\u001B[0m\n",
      "\u001B[1;32m~\\anaconda3\\envs\\env\\lib\\site-packages\\sklearnex\\_device_offload.py\u001B[0m in \u001B[0;36mdispatch\u001B[1;34m(obj, method_name, branches, *args, **kwargs)\u001B[0m\n\u001B[0;32m    151\u001B[0m     \u001B[0mlogging\u001B[0m\u001B[1;33m.\u001B[0m\u001B[0minfo\u001B[0m\u001B[1;33m(\u001B[0m\u001B[1;34mf\"sklearn.{method_name}: {get_patch_message(backend, q)}\"\u001B[0m\u001B[1;33m)\u001B[0m\u001B[1;33m\u001B[0m\u001B[1;33m\u001B[0m\u001B[0m\n\u001B[0;32m    152\u001B[0m     \u001B[1;32mif\u001B[0m \u001B[0mbackend\u001B[0m \u001B[1;33m==\u001B[0m \u001B[1;34m'onedal'\u001B[0m\u001B[1;33m:\u001B[0m\u001B[1;33m\u001B[0m\u001B[1;33m\u001B[0m\u001B[0m\n\u001B[1;32m--> 153\u001B[1;33m         \u001B[1;32mreturn\u001B[0m \u001B[0mbranches\u001B[0m\u001B[1;33m[\u001B[0m\u001B[0mbackend\u001B[0m\u001B[1;33m]\u001B[0m\u001B[1;33m(\u001B[0m\u001B[0mobj\u001B[0m\u001B[1;33m,\u001B[0m \u001B[1;33m*\u001B[0m\u001B[0mhostargs\u001B[0m\u001B[1;33m,\u001B[0m \u001B[1;33m**\u001B[0m\u001B[0mhostkwargs\u001B[0m\u001B[1;33m,\u001B[0m \u001B[0mqueue\u001B[0m\u001B[1;33m=\u001B[0m\u001B[0mq\u001B[0m\u001B[1;33m)\u001B[0m\u001B[1;33m\u001B[0m\u001B[1;33m\u001B[0m\u001B[0m\n\u001B[0m\u001B[0;32m    154\u001B[0m     \u001B[1;32mif\u001B[0m \u001B[0mbackend\u001B[0m \u001B[1;33m==\u001B[0m \u001B[1;34m'sklearn'\u001B[0m\u001B[1;33m:\u001B[0m\u001B[1;33m\u001B[0m\u001B[1;33m\u001B[0m\u001B[0m\n\u001B[0;32m    155\u001B[0m         \u001B[1;32mreturn\u001B[0m \u001B[0mbranches\u001B[0m\u001B[1;33m[\u001B[0m\u001B[0mbackend\u001B[0m\u001B[1;33m]\u001B[0m\u001B[1;33m(\u001B[0m\u001B[0mobj\u001B[0m\u001B[1;33m,\u001B[0m \u001B[1;33m*\u001B[0m\u001B[0mhostargs\u001B[0m\u001B[1;33m,\u001B[0m \u001B[1;33m**\u001B[0m\u001B[0mhostkwargs\u001B[0m\u001B[1;33m)\u001B[0m\u001B[1;33m\u001B[0m\u001B[1;33m\u001B[0m\u001B[0m\n",
      "\u001B[1;32m~\\anaconda3\\envs\\env\\lib\\site-packages\\sklearnex\\svm\\svc.py\u001B[0m in \u001B[0;36m_onedal_fit\u001B[1;34m(self, X, y, sample_weight, queue)\u001B[0m\n\u001B[0;32m    214\u001B[0m \u001B[1;33m\u001B[0m\u001B[0m\n\u001B[0;32m    215\u001B[0m         \u001B[1;32mif\u001B[0m \u001B[0mself\u001B[0m\u001B[1;33m.\u001B[0m\u001B[0mprobability\u001B[0m\u001B[1;33m:\u001B[0m\u001B[1;33m\u001B[0m\u001B[1;33m\u001B[0m\u001B[0m\n\u001B[1;32m--> 216\u001B[1;33m             \u001B[0mself\u001B[0m\u001B[1;33m.\u001B[0m\u001B[0m_fit_proba\u001B[0m\u001B[1;33m(\u001B[0m\u001B[0mX\u001B[0m\u001B[1;33m,\u001B[0m \u001B[0my\u001B[0m\u001B[1;33m,\u001B[0m \u001B[0msample_weight\u001B[0m\u001B[1;33m,\u001B[0m \u001B[0mqueue\u001B[0m\u001B[1;33m=\u001B[0m\u001B[0mqueue\u001B[0m\u001B[1;33m)\u001B[0m\u001B[1;33m\u001B[0m\u001B[1;33m\u001B[0m\u001B[0m\n\u001B[0m\u001B[0;32m    217\u001B[0m         \u001B[0mself\u001B[0m\u001B[1;33m.\u001B[0m\u001B[0m_save_attributes\u001B[0m\u001B[1;33m(\u001B[0m\u001B[1;33m)\u001B[0m\u001B[1;33m\u001B[0m\u001B[1;33m\u001B[0m\u001B[0m\n\u001B[0;32m    218\u001B[0m \u001B[1;33m\u001B[0m\u001B[0m\n",
      "\u001B[1;32m~\\anaconda3\\envs\\env\\lib\\site-packages\\sklearnex\\svm\\_common.py\u001B[0m in \u001B[0;36m_fit_proba\u001B[1;34m(self, X, y, sample_weight, queue)\u001B[0m\n\u001B[0;32m     91\u001B[0m                     self.clf_prob = CalibratedClassifierCV(\n\u001B[0;32m     92\u001B[0m                         clf_base, cv=cv, method='sigmoid')\n\u001B[1;32m---> 93\u001B[1;33m                 \u001B[0mself\u001B[0m\u001B[1;33m.\u001B[0m\u001B[0mclf_prob\u001B[0m\u001B[1;33m.\u001B[0m\u001B[0mfit\u001B[0m\u001B[1;33m(\u001B[0m\u001B[0mX\u001B[0m\u001B[1;33m,\u001B[0m \u001B[0my\u001B[0m\u001B[1;33m,\u001B[0m \u001B[0msample_weight\u001B[0m\u001B[1;33m)\u001B[0m\u001B[1;33m\u001B[0m\u001B[1;33m\u001B[0m\u001B[0m\n\u001B[0m\u001B[0;32m     94\u001B[0m             \u001B[1;32mexcept\u001B[0m \u001B[0mValueError\u001B[0m\u001B[1;33m:\u001B[0m\u001B[1;33m\u001B[0m\u001B[1;33m\u001B[0m\u001B[0m\n\u001B[0;32m     95\u001B[0m                 \u001B[0mclf_base\u001B[0m \u001B[1;33m=\u001B[0m \u001B[0mclf_base\u001B[0m\u001B[1;33m.\u001B[0m\u001B[0mfit\u001B[0m\u001B[1;33m(\u001B[0m\u001B[0mX\u001B[0m\u001B[1;33m,\u001B[0m \u001B[0my\u001B[0m\u001B[1;33m,\u001B[0m \u001B[0msample_weight\u001B[0m\u001B[1;33m)\u001B[0m\u001B[1;33m\u001B[0m\u001B[1;33m\u001B[0m\u001B[0m\n",
      "\u001B[1;32m~\\anaconda3\\envs\\env\\lib\\site-packages\\sklearn\\calibration.py\u001B[0m in \u001B[0;36mfit\u001B[1;34m(self, X, y, sample_weight)\u001B[0m\n\u001B[0;32m    371\u001B[0m                     \u001B[0mfit_params\u001B[0m\u001B[1;33m=\u001B[0m\u001B[0mfit_params\u001B[0m\u001B[1;33m,\u001B[0m\u001B[1;33m\u001B[0m\u001B[1;33m\u001B[0m\u001B[0m\n\u001B[0;32m    372\u001B[0m                 )\n\u001B[1;32m--> 373\u001B[1;33m                 predictions = _compute_predictions(\n\u001B[0m\u001B[0;32m    374\u001B[0m                     \u001B[0mpred_method\u001B[0m\u001B[1;33m,\u001B[0m \u001B[0mmethod_name\u001B[0m\u001B[1;33m,\u001B[0m \u001B[0mX\u001B[0m\u001B[1;33m,\u001B[0m \u001B[0mn_classes\u001B[0m\u001B[1;33m\u001B[0m\u001B[1;33m\u001B[0m\u001B[0m\n\u001B[0;32m    375\u001B[0m                 )\n",
      "\u001B[1;32m~\\anaconda3\\envs\\env\\lib\\site-packages\\sklearn\\calibration.py\u001B[0m in \u001B[0;36m_compute_predictions\u001B[1;34m(pred_method, method_name, X, n_classes)\u001B[0m\n\u001B[0;32m    575\u001B[0m         \u001B[1;33m(\u001B[0m\u001B[0mX\u001B[0m\u001B[1;33m.\u001B[0m\u001B[0mshape\u001B[0m\u001B[1;33m[\u001B[0m\u001B[1;36m0\u001B[0m\u001B[1;33m]\u001B[0m\u001B[1;33m,\u001B[0m \u001B[1;36m1\u001B[0m\u001B[1;33m)\u001B[0m\u001B[1;33m.\u001B[0m\u001B[1;33m\u001B[0m\u001B[1;33m\u001B[0m\u001B[0m\n\u001B[0;32m    576\u001B[0m     \"\"\"\n\u001B[1;32m--> 577\u001B[1;33m     \u001B[0mpredictions\u001B[0m \u001B[1;33m=\u001B[0m \u001B[0mpred_method\u001B[0m\u001B[1;33m(\u001B[0m\u001B[0mX\u001B[0m\u001B[1;33m=\u001B[0m\u001B[0mX\u001B[0m\u001B[1;33m)\u001B[0m\u001B[1;33m\u001B[0m\u001B[1;33m\u001B[0m\u001B[0m\n\u001B[0m\u001B[0;32m    578\u001B[0m \u001B[1;33m\u001B[0m\u001B[0m\n\u001B[0;32m    579\u001B[0m     \u001B[1;32mif\u001B[0m \u001B[0mmethod_name\u001B[0m \u001B[1;33m==\u001B[0m \u001B[1;34m\"decision_function\"\u001B[0m\u001B[1;33m:\u001B[0m\u001B[1;33m\u001B[0m\u001B[1;33m\u001B[0m\u001B[0m\n",
      "\u001B[1;32m~\\anaconda3\\envs\\env\\lib\\site-packages\\sklearn\\model_selection\\_validation.py\u001B[0m in \u001B[0;36mcross_val_predict\u001B[1;34m(estimator, X, y, groups, cv, n_jobs, verbose, fit_params, pre_dispatch, method)\u001B[0m\n\u001B[0;32m    960\u001B[0m     \u001B[1;31m# independent, and that it is pickle-able.\u001B[0m\u001B[1;33m\u001B[0m\u001B[1;33m\u001B[0m\u001B[0m\n\u001B[0;32m    961\u001B[0m     \u001B[0mparallel\u001B[0m \u001B[1;33m=\u001B[0m \u001B[0mParallel\u001B[0m\u001B[1;33m(\u001B[0m\u001B[0mn_jobs\u001B[0m\u001B[1;33m=\u001B[0m\u001B[0mn_jobs\u001B[0m\u001B[1;33m,\u001B[0m \u001B[0mverbose\u001B[0m\u001B[1;33m=\u001B[0m\u001B[0mverbose\u001B[0m\u001B[1;33m,\u001B[0m \u001B[0mpre_dispatch\u001B[0m\u001B[1;33m=\u001B[0m\u001B[0mpre_dispatch\u001B[0m\u001B[1;33m)\u001B[0m\u001B[1;33m\u001B[0m\u001B[1;33m\u001B[0m\u001B[0m\n\u001B[1;32m--> 962\u001B[1;33m     predictions = parallel(\n\u001B[0m\u001B[0;32m    963\u001B[0m         delayed(_fit_and_predict)(\n\u001B[0;32m    964\u001B[0m             \u001B[0mclone\u001B[0m\u001B[1;33m(\u001B[0m\u001B[0mestimator\u001B[0m\u001B[1;33m)\u001B[0m\u001B[1;33m,\u001B[0m \u001B[0mX\u001B[0m\u001B[1;33m,\u001B[0m \u001B[0my\u001B[0m\u001B[1;33m,\u001B[0m \u001B[0mtrain\u001B[0m\u001B[1;33m,\u001B[0m \u001B[0mtest\u001B[0m\u001B[1;33m,\u001B[0m \u001B[0mverbose\u001B[0m\u001B[1;33m,\u001B[0m \u001B[0mfit_params\u001B[0m\u001B[1;33m,\u001B[0m \u001B[0mmethod\u001B[0m\u001B[1;33m\u001B[0m\u001B[1;33m\u001B[0m\u001B[0m\n",
      "\u001B[1;32m~\\anaconda3\\envs\\env\\lib\\site-packages\\joblib\\parallel.py\u001B[0m in \u001B[0;36m__call__\u001B[1;34m(self, iterable)\u001B[0m\n\u001B[0;32m   1054\u001B[0m \u001B[1;33m\u001B[0m\u001B[0m\n\u001B[0;32m   1055\u001B[0m             \u001B[1;32mwith\u001B[0m \u001B[0mself\u001B[0m\u001B[1;33m.\u001B[0m\u001B[0m_backend\u001B[0m\u001B[1;33m.\u001B[0m\u001B[0mretrieval_context\u001B[0m\u001B[1;33m(\u001B[0m\u001B[1;33m)\u001B[0m\u001B[1;33m:\u001B[0m\u001B[1;33m\u001B[0m\u001B[1;33m\u001B[0m\u001B[0m\n\u001B[1;32m-> 1056\u001B[1;33m                 \u001B[0mself\u001B[0m\u001B[1;33m.\u001B[0m\u001B[0mretrieve\u001B[0m\u001B[1;33m(\u001B[0m\u001B[1;33m)\u001B[0m\u001B[1;33m\u001B[0m\u001B[1;33m\u001B[0m\u001B[0m\n\u001B[0m\u001B[0;32m   1057\u001B[0m             \u001B[1;31m# Make sure that we get a last message telling us we are done\u001B[0m\u001B[1;33m\u001B[0m\u001B[1;33m\u001B[0m\u001B[0m\n\u001B[0;32m   1058\u001B[0m             \u001B[0melapsed_time\u001B[0m \u001B[1;33m=\u001B[0m \u001B[0mtime\u001B[0m\u001B[1;33m.\u001B[0m\u001B[0mtime\u001B[0m\u001B[1;33m(\u001B[0m\u001B[1;33m)\u001B[0m \u001B[1;33m-\u001B[0m \u001B[0mself\u001B[0m\u001B[1;33m.\u001B[0m\u001B[0m_start_time\u001B[0m\u001B[1;33m\u001B[0m\u001B[1;33m\u001B[0m\u001B[0m\n",
      "\u001B[1;32m~\\anaconda3\\envs\\env\\lib\\site-packages\\joblib\\parallel.py\u001B[0m in \u001B[0;36mretrieve\u001B[1;34m(self)\u001B[0m\n\u001B[0;32m    933\u001B[0m             \u001B[1;32mtry\u001B[0m\u001B[1;33m:\u001B[0m\u001B[1;33m\u001B[0m\u001B[1;33m\u001B[0m\u001B[0m\n\u001B[0;32m    934\u001B[0m                 \u001B[1;32mif\u001B[0m \u001B[0mgetattr\u001B[0m\u001B[1;33m(\u001B[0m\u001B[0mself\u001B[0m\u001B[1;33m.\u001B[0m\u001B[0m_backend\u001B[0m\u001B[1;33m,\u001B[0m \u001B[1;34m'supports_timeout'\u001B[0m\u001B[1;33m,\u001B[0m \u001B[1;32mFalse\u001B[0m\u001B[1;33m)\u001B[0m\u001B[1;33m:\u001B[0m\u001B[1;33m\u001B[0m\u001B[1;33m\u001B[0m\u001B[0m\n\u001B[1;32m--> 935\u001B[1;33m                     \u001B[0mself\u001B[0m\u001B[1;33m.\u001B[0m\u001B[0m_output\u001B[0m\u001B[1;33m.\u001B[0m\u001B[0mextend\u001B[0m\u001B[1;33m(\u001B[0m\u001B[0mjob\u001B[0m\u001B[1;33m.\u001B[0m\u001B[0mget\u001B[0m\u001B[1;33m(\u001B[0m\u001B[0mtimeout\u001B[0m\u001B[1;33m=\u001B[0m\u001B[0mself\u001B[0m\u001B[1;33m.\u001B[0m\u001B[0mtimeout\u001B[0m\u001B[1;33m)\u001B[0m\u001B[1;33m)\u001B[0m\u001B[1;33m\u001B[0m\u001B[1;33m\u001B[0m\u001B[0m\n\u001B[0m\u001B[0;32m    936\u001B[0m                 \u001B[1;32melse\u001B[0m\u001B[1;33m:\u001B[0m\u001B[1;33m\u001B[0m\u001B[1;33m\u001B[0m\u001B[0m\n\u001B[0;32m    937\u001B[0m                     \u001B[0mself\u001B[0m\u001B[1;33m.\u001B[0m\u001B[0m_output\u001B[0m\u001B[1;33m.\u001B[0m\u001B[0mextend\u001B[0m\u001B[1;33m(\u001B[0m\u001B[0mjob\u001B[0m\u001B[1;33m.\u001B[0m\u001B[0mget\u001B[0m\u001B[1;33m(\u001B[0m\u001B[1;33m)\u001B[0m\u001B[1;33m)\u001B[0m\u001B[1;33m\u001B[0m\u001B[1;33m\u001B[0m\u001B[0m\n",
      "\u001B[1;32m~\\anaconda3\\envs\\env\\lib\\site-packages\\joblib\\_parallel_backends.py\u001B[0m in \u001B[0;36mwrap_future_result\u001B[1;34m(future, timeout)\u001B[0m\n\u001B[0;32m    540\u001B[0m         AsyncResults.get from multiprocessing.\"\"\"\n\u001B[0;32m    541\u001B[0m         \u001B[1;32mtry\u001B[0m\u001B[1;33m:\u001B[0m\u001B[1;33m\u001B[0m\u001B[1;33m\u001B[0m\u001B[0m\n\u001B[1;32m--> 542\u001B[1;33m             \u001B[1;32mreturn\u001B[0m \u001B[0mfuture\u001B[0m\u001B[1;33m.\u001B[0m\u001B[0mresult\u001B[0m\u001B[1;33m(\u001B[0m\u001B[0mtimeout\u001B[0m\u001B[1;33m=\u001B[0m\u001B[0mtimeout\u001B[0m\u001B[1;33m)\u001B[0m\u001B[1;33m\u001B[0m\u001B[1;33m\u001B[0m\u001B[0m\n\u001B[0m\u001B[0;32m    543\u001B[0m         \u001B[1;32mexcept\u001B[0m \u001B[0mCfTimeoutError\u001B[0m \u001B[1;32mas\u001B[0m \u001B[0me\u001B[0m\u001B[1;33m:\u001B[0m\u001B[1;33m\u001B[0m\u001B[1;33m\u001B[0m\u001B[0m\n\u001B[0;32m    544\u001B[0m             \u001B[1;32mraise\u001B[0m \u001B[0mTimeoutError\u001B[0m \u001B[1;32mfrom\u001B[0m \u001B[0me\u001B[0m\u001B[1;33m\u001B[0m\u001B[1;33m\u001B[0m\u001B[0m\n",
      "\u001B[1;32m~\\anaconda3\\envs\\env\\lib\\concurrent\\futures\\_base.py\u001B[0m in \u001B[0;36mresult\u001B[1;34m(self, timeout)\u001B[0m\n\u001B[0;32m    436\u001B[0m                     \u001B[1;32mraise\u001B[0m \u001B[0mCancelledError\u001B[0m\u001B[1;33m(\u001B[0m\u001B[1;33m)\u001B[0m\u001B[1;33m\u001B[0m\u001B[1;33m\u001B[0m\u001B[0m\n\u001B[0;32m    437\u001B[0m                 \u001B[1;32melif\u001B[0m \u001B[0mself\u001B[0m\u001B[1;33m.\u001B[0m\u001B[0m_state\u001B[0m \u001B[1;33m==\u001B[0m \u001B[0mFINISHED\u001B[0m\u001B[1;33m:\u001B[0m\u001B[1;33m\u001B[0m\u001B[1;33m\u001B[0m\u001B[0m\n\u001B[1;32m--> 438\u001B[1;33m                     \u001B[1;32mreturn\u001B[0m \u001B[0mself\u001B[0m\u001B[1;33m.\u001B[0m\u001B[0m__get_result\u001B[0m\u001B[1;33m(\u001B[0m\u001B[1;33m)\u001B[0m\u001B[1;33m\u001B[0m\u001B[1;33m\u001B[0m\u001B[0m\n\u001B[0m\u001B[0;32m    439\u001B[0m \u001B[1;33m\u001B[0m\u001B[0m\n\u001B[0;32m    440\u001B[0m                 \u001B[0mself\u001B[0m\u001B[1;33m.\u001B[0m\u001B[0m_condition\u001B[0m\u001B[1;33m.\u001B[0m\u001B[0mwait\u001B[0m\u001B[1;33m(\u001B[0m\u001B[0mtimeout\u001B[0m\u001B[1;33m)\u001B[0m\u001B[1;33m\u001B[0m\u001B[1;33m\u001B[0m\u001B[0m\n",
      "\u001B[1;32m~\\anaconda3\\envs\\env\\lib\\concurrent\\futures\\_base.py\u001B[0m in \u001B[0;36m__get_result\u001B[1;34m(self)\u001B[0m\n\u001B[0;32m    388\u001B[0m         \u001B[1;32mif\u001B[0m \u001B[0mself\u001B[0m\u001B[1;33m.\u001B[0m\u001B[0m_exception\u001B[0m\u001B[1;33m:\u001B[0m\u001B[1;33m\u001B[0m\u001B[1;33m\u001B[0m\u001B[0m\n\u001B[0;32m    389\u001B[0m             \u001B[1;32mtry\u001B[0m\u001B[1;33m:\u001B[0m\u001B[1;33m\u001B[0m\u001B[1;33m\u001B[0m\u001B[0m\n\u001B[1;32m--> 390\u001B[1;33m                 \u001B[1;32mraise\u001B[0m \u001B[0mself\u001B[0m\u001B[1;33m.\u001B[0m\u001B[0m_exception\u001B[0m\u001B[1;33m\u001B[0m\u001B[1;33m\u001B[0m\u001B[0m\n\u001B[0m\u001B[0;32m    391\u001B[0m             \u001B[1;32mfinally\u001B[0m\u001B[1;33m:\u001B[0m\u001B[1;33m\u001B[0m\u001B[1;33m\u001B[0m\u001B[0m\n\u001B[0;32m    392\u001B[0m                 \u001B[1;31m# Break a reference cycle with the exception in self._exception\u001B[0m\u001B[1;33m\u001B[0m\u001B[1;33m\u001B[0m\u001B[0m\n",
      "\u001B[1;31mMemoryError\u001B[0m: bad allocation"
     ]
    }
   ],
   "source": [
    "svc = SVC(probability = True)\n",
    "\n",
    "param_grid = {\n",
    "    'C': np.logspace(-3, 3, num = 7),\n",
    "    'gamma': np.logspace(-3, 3, num = 7)\n",
    "}\n",
    "\n",
    "best_model = GridSearchCV(svc, param_grid, cv= 3, scoring = 'recall', verbose = 3)\n",
    "best_model.fit(X_sparse, y_train)\n",
    "best_model.score(X_sparse, y_train)"
   ],
   "metadata": {
    "collapsed": false,
    "pycharm": {
     "name": "#%%\n"
    }
   }
  },
  {
   "cell_type": "code",
   "execution_count": 16,
   "outputs": [
    {
     "name": "stdout",
     "output_type": "stream",
     "text": [
      "SKLEARNEX INFO: sklearn.svm.SVC.fit: running accelerated version on CPU\n",
      "SKLEARNEX INFO: sklearn.svm.SVC.fit: running accelerated version on CPU\n"
     ]
    },
    {
     "data": {
      "text/plain": "SVC(C=1000, gamma=0.01, probability=True)"
     },
     "execution_count": 16,
     "metadata": {},
     "output_type": "execute_result"
    }
   ],
   "source": [
    "best_model = SVC(C = 1000, gamma = 0.01, probability = True)\n",
    "best_model.fit(X_sparse, y_train)"
   ],
   "metadata": {
    "collapsed": false,
    "pycharm": {
     "name": "#%%\n"
    }
   }
  },
  {
   "cell_type": "code",
   "execution_count": 17,
   "outputs": [
    {
     "name": "stdout",
     "output_type": "stream",
     "text": [
      "SKLEARNEX INFO: sklearn.svm.SVC.predict: running accelerated version on CPU\n"
     ]
    },
    {
     "data": {
      "text/plain": "0.9991826366882953"
     },
     "execution_count": 17,
     "metadata": {},
     "output_type": "execute_result"
    }
   ],
   "source": [
    "best_model.score(X_sparse, y_train)"
   ],
   "metadata": {
    "collapsed": false,
    "pycharm": {
     "name": "#%%\n"
    }
   }
  },
  {
   "cell_type": "code",
   "execution_count": 43,
   "outputs": [
    {
     "data": {
      "text/plain": "{'C': 1000.0, 'gamma': 0.01}"
     },
     "execution_count": 43,
     "metadata": {},
     "output_type": "execute_result"
    }
   ],
   "source": [
    "best_model.best_params_"
   ],
   "metadata": {
    "collapsed": false,
    "pycharm": {
     "name": "#%%\n"
    }
   }
  },
  {
   "cell_type": "code",
   "execution_count": 42,
   "outputs": [
    {
     "data": {
      "text/plain": "0.5327717932369095"
     },
     "execution_count": 42,
     "metadata": {},
     "output_type": "execute_result"
    }
   ],
   "source": [
    "best_model.best_score_"
   ],
   "metadata": {
    "collapsed": false,
    "pycharm": {
     "name": "#%%\n"
    }
   }
  },
  {
   "cell_type": "code",
   "execution_count": 28,
   "outputs": [
    {
     "data": {
      "text/plain": "['svcC1000g001.joblib']"
     },
     "execution_count": 28,
     "metadata": {},
     "output_type": "execute_result"
    }
   ],
   "source": [
    "joblib.dump(best_model, 'svcC1000g001.joblib')"
   ],
   "metadata": {
    "collapsed": false,
    "pycharm": {
     "name": "#%%\n"
    }
   }
  },
  {
   "cell_type": "markdown",
   "source": [
    "## Evaluación"
   ],
   "metadata": {
    "collapsed": false,
    "pycharm": {
     "name": "#%% md\n"
    }
   }
  },
  {
   "cell_type": "markdown",
   "source": [
    "### Escenario 1\n",
    "\n",
    "Campo: 70 cm x 70 cm\n",
    "\n",
    "Sin objetos"
   ],
   "metadata": {
    "collapsed": false,
    "pycharm": {
     "name": "#%% md\n"
    }
   }
  },
  {
   "cell_type": "code",
   "execution_count": 20,
   "outputs": [
    {
     "name": "stdout",
     "output_type": "stream",
     "text": [
      "x: (0.0, 0.7)\n",
      "y: (0.0, 0.7)\n",
      "SKLEARNEX INFO: sklearn.svm.SVC.predict_proba: running accelerated version on CPU\n",
      "SKLEARNEX INFO: sklearn.svm.SVC.decision_function: running accelerated version on CPU\n"
     ]
    },
    {
     "name": "stderr",
     "output_type": "stream",
     "text": [
      "C:\\Users\\leone\\AppData\\Local\\Temp/ipykernel_1952/4152128146.py:5: MatplotlibDeprecationWarning: Auto-removal of grids by pcolor() and pcolormesh() is deprecated since 3.5 and will be removed two minor releases later; please call grid(False) first.\n",
      "  plt.colorbar()\n"
     ]
    },
    {
     "data": {
      "text/plain": "<Figure size 720x720 with 2 Axes>",
      "image/png": "[encoded data removed]"
     },
     "metadata": {},
     "output_type": "display_data"
    }
   ],
   "source": [
    "c_scan = read_c_scan(r\"C:\\Users\\leone\\Universidad de los Andes\\Daniel Julian Gonzalez Ramirez - Entrega Proyecto Desminado - Daniel Gonzalez\\02 mediciones de gpr\\01_solo_arena\\01_merged_files\\C_Scan_time_raw.h5\", 'x')\n",
    "qx, qy, qt = c_scan.shape\n",
    "X_test = np.reshape(c_scan, (qx * qy, qt))\n",
    "\n",
    "x = np.linspace(0, 700, qx)\n",
    "y = np.linspace(0, 700, qy)\n",
    "\n",
    "mine_pred = best_model.predict_proba(dict_learner.transform(X_test))\n",
    "mine_pred = np.reshape(mine_pred[:,1], (qx, qy))\n",
    "plot_mine_map(x, y, mine_pred)"
   ],
   "metadata": {
    "collapsed": false,
    "pycharm": {
     "name": "#%%\n"
    }
   }
  },
  {
   "cell_type": "markdown",
   "source": [
    "## Escenario 2: Entrenamiento"
   ],
   "metadata": {
    "collapsed": false,
    "pycharm": {
     "name": "#%% md\n"
    }
   }
  },
  {
   "cell_type": "code",
   "execution_count": 19,
   "outputs": [
    {
     "name": "stdout",
     "output_type": "stream",
     "text": [
      "x: (0.0, 0.7)\n",
      "y: (0.0, 0.7)\n"
     ]
    },
    {
     "name": "stderr",
     "output_type": "stream",
     "text": [
      "C:\\Users\\leone\\anaconda3\\envs\\env\\lib\\site-packages\\sklearn\\decomposition\\_dict_learning.py:207: RuntimeWarning: Orthogonal matching pursuit ended prematurely due to linear dependence in the dictionary. The requested precision might not have been met.\n",
      "  new_code = orthogonal_mp_gram(\n"
     ]
    },
    {
     "name": "stdout",
     "output_type": "stream",
     "text": [
      "SKLEARNEX INFO: sklearn.svm.SVC.predict_proba: running accelerated version on CPU\n",
      "SKLEARNEX INFO: sklearn.svm.SVC.decision_function: running accelerated version on CPU\n"
     ]
    },
    {
     "name": "stderr",
     "output_type": "stream",
     "text": [
      "C:\\Users\\leone\\AppData\\Local\\Temp/ipykernel_1952/4152128146.py:5: MatplotlibDeprecationWarning: Auto-removal of grids by pcolor() and pcolormesh() is deprecated since 3.5 and will be removed two minor releases later; please call grid(False) first.\n",
      "  plt.colorbar()\n"
     ]
    },
    {
     "data": {
      "text/plain": "<Figure size 720x720 with 2 Axes>",
      "image/png": "[encoded data removed]"
     },
     "metadata": {},
     "output_type": "display_data"
    }
   ],
   "source": [
    "c_scan = read_c_scan(r\"C:\\Users\\leone\\Universidad de los Andes\\Daniel Julian Gonzalez Ramirez - Entrega Proyecto Desminado - Daniel Gonzalez\\02 mediciones de gpr\\02_esfera_metalica_7mm_350_350_10mm\\01_merged_files\\C_Scan_time_raw.h5\", 'x')\n",
    "qx, qy, qt = c_scan.shape\n",
    "X_test = np.reshape(c_scan, (qx * qy, qt))\n",
    "\n",
    "x = np.linspace(0, 700, qx)\n",
    "y = np.linspace(0, 700, qy)\n",
    "\n",
    "mine_pred = best_model.predict_proba(dict_learner.transform(X_test))\n",
    "mine_pred = np.reshape(mine_pred[:,1], (qx, qy))\n",
    "plot_mine_map(x, y, mine_pred)"
   ],
   "metadata": {
    "collapsed": false,
    "pycharm": {
     "name": "#%%\n"
    }
   }
  },
  {
   "cell_type": "markdown",
   "source": [
    "## Escenario 3: Entrenamiento"
   ],
   "metadata": {
    "collapsed": false,
    "pycharm": {
     "name": "#%% md\n"
    }
   }
  },
  {
   "cell_type": "code",
   "execution_count": 21,
   "outputs": [
    {
     "name": "stdout",
     "output_type": "stream",
     "text": [
      "x: (0.0, 0.7)\n",
      "y: (0.0, 0.7)\n"
     ]
    },
    {
     "name": "stderr",
     "output_type": "stream",
     "text": [
      "C:\\Users\\leone\\anaconda3\\envs\\env\\lib\\site-packages\\sklearn\\decomposition\\_dict_learning.py:207: RuntimeWarning: Orthogonal matching pursuit ended prematurely due to linear dependence in the dictionary. The requested precision might not have been met.\n",
      "  new_code = orthogonal_mp_gram(\n"
     ]
    },
    {
     "name": "stdout",
     "output_type": "stream",
     "text": [
      "SKLEARNEX INFO: sklearn.svm.SVC.predict_proba: running accelerated version on CPU\n",
      "SKLEARNEX INFO: sklearn.svm.SVC.decision_function: running accelerated version on CPU\n"
     ]
    },
    {
     "name": "stderr",
     "output_type": "stream",
     "text": [
      "C:\\Users\\leone\\AppData\\Local\\Temp/ipykernel_1952/4152128146.py:5: MatplotlibDeprecationWarning: Auto-removal of grids by pcolor() and pcolormesh() is deprecated since 3.5 and will be removed two minor releases later; please call grid(False) first.\n",
      "  plt.colorbar()\n"
     ]
    },
    {
     "data": {
      "text/plain": "<Figure size 720x720 with 2 Axes>",
      "image/png": "[encoded data removed]"
     },
     "metadata": {},
     "output_type": "display_data"
    }
   ],
   "source": [
    "c_scan = read_c_scan(r\"C:\\Users\\leone\\Universidad de los Andes\\Daniel Julian Gonzalez Ramirez - Entrega Proyecto Desminado - Daniel Gonzalez\\02 mediciones de gpr\\03_esfera_metalica_7mm_350_350_110mm\\02_merged_files\\C_Scan_time_raw.h5\", 'x')\n",
    "qx, qy, qt = c_scan.shape\n",
    "X_test = np.reshape(c_scan, (qx * qy, qt))\n",
    "\n",
    "x = np.linspace(0, 700, qx)\n",
    "y = np.linspace(0, 700, qy)\n",
    "\n",
    "mine_pred = best_model.predict_proba(dict_learner.transform(X_test))\n",
    "mine_pred = np.reshape(mine_pred[:,1], (qx, qy))\n",
    "plot_mine_map(x, y, mine_pred)"
   ],
   "metadata": {
    "collapsed": false,
    "pycharm": {
     "name": "#%%\n"
    }
   }
  },
  {
   "cell_type": "markdown",
   "source": [
    "## Escenario 4\n",
    "\n",
    "Solo arena\n",
    "\n"
   ],
   "metadata": {
    "collapsed": false,
    "pycharm": {
     "name": "#%% md\n"
    }
   }
  },
  {
   "cell_type": "code",
   "execution_count": 22,
   "outputs": [
    {
     "name": "stdout",
     "output_type": "stream",
     "text": [
      "x: (0.0, 0.7)\n",
      "y: (1.0, 1.7)\n",
      "SKLEARNEX INFO: sklearn.svm.SVC.predict_proba: running accelerated version on CPU\n",
      "SKLEARNEX INFO: sklearn.svm.SVC.decision_function: running accelerated version on CPU\n"
     ]
    },
    {
     "name": "stderr",
     "output_type": "stream",
     "text": [
      "C:\\Users\\leone\\AppData\\Local\\Temp/ipykernel_1952/4152128146.py:5: MatplotlibDeprecationWarning: Auto-removal of grids by pcolor() and pcolormesh() is deprecated since 3.5 and will be removed two minor releases later; please call grid(False) first.\n",
      "  plt.colorbar()\n"
     ]
    },
    {
     "data": {
      "text/plain": "<Figure size 720x720 with 2 Axes>",
      "image/png": "[encoded data removed]"
     },
     "metadata": {},
     "output_type": "display_data"
    }
   ],
   "source": [
    "c_scan = read_c_scan(r\"C:\\Users\\leone\\Universidad de los Andes\\Daniel Julian Gonzalez Ramirez - Entrega Proyecto Desminado - Daniel Gonzalez\\02 mediciones de gpr\\04_solo_arena_1000_1700\\02_merged_files\\C_Scan_time_raw.h5\", 'x')\n",
    "qx, qy, qt = c_scan.shape\n",
    "X_test = np.reshape(c_scan, (qx * qy, qt))\n",
    "\n",
    "x = np.linspace(0, 700, qx)\n",
    "y = np.linspace(0, 700, qy)\n",
    "\n",
    "mine_pred = best_model.predict_proba(dict_learner.transform(X_test))\n",
    "mine_pred = np.reshape(mine_pred[:,1], (qx, qy))\n",
    "plot_mine_map(x, y, mine_pred)"
   ],
   "metadata": {
    "collapsed": false,
    "pycharm": {
     "name": "#%%\n"
    }
   }
  },
  {
   "cell_type": "markdown",
   "source": [
    "## Escenario 11\n"
   ],
   "metadata": {
    "collapsed": false,
    "pycharm": {
     "name": "#%% md\n"
    }
   }
  },
  {
   "cell_type": "code",
   "execution_count": 38,
   "outputs": [
    {
     "name": "stdout",
     "output_type": "stream",
     "text": [
      "x: (0.0, 0.7)\n",
      "y: (0.0, 0.7)\n",
      "SKLEARNEX INFO: sklearn.svm.SVC.predict_proba: running accelerated version on CPU\n",
      "SKLEARNEX INFO: sklearn.svm.SVC.decision_function: running accelerated version on CPU\n"
     ]
    },
    {
     "name": "stderr",
     "output_type": "stream",
     "text": [
      "C:\\Users\\leone\\AppData\\Local\\Temp/ipykernel_16872/4152128146.py:5: MatplotlibDeprecationWarning: Auto-removal of grids by pcolor() and pcolormesh() is deprecated since 3.5 and will be removed two minor releases later; please call grid(False) first.\n",
      "  plt.colorbar()\n"
     ]
    },
    {
     "data": {
      "text/plain": "<Figure size 720x720 with 2 Axes>",
      "image/png": "[encoded data removed]"
     },
     "metadata": {},
     "output_type": "display_data"
    }
   ],
   "source": [
    "c_scan = read_c_scan(r\"C:\\Users\\leone\\Universidad de los Andes\\Daniel Julian Gonzalez Ramirez - Entrega Proyecto Desminado - Daniel Gonzalez\\02 mediciones de gpr\\11_arena_alta_mina\\02_merged_files\\C_Scan_time_raw.h5\", 'x')\n",
    "qx, qy, qt = c_scan.shape\n",
    "X_test = np.reshape(c_scan, (qx * qy, qt))\n",
    "\n",
    "x = np.linspace(0, 700, qx)\n",
    "y = np.linspace(0, 700, qy)\n",
    "\n",
    "mine_pred = best_model.predict_proba(dict_learner.transform(X_test))\n",
    "mine_pred = np.reshape(mine_pred[:,1], (qx, qy))\n",
    "plot_mine_map(x, y, mine_pred)"
   ],
   "metadata": {
    "collapsed": false,
    "pycharm": {
     "name": "#%%\n"
    }
   }
  },
  {
   "cell_type": "markdown",
   "source": [
    "### Escenario 7\n",
    "\n",
    "Campo: 70 cm x 70 cm\n",
    "\n",
    "Objetos:\n",
    "- Mina\n",
    "- Esfera"
   ],
   "metadata": {
    "collapsed": false,
    "pycharm": {
     "name": "#%% md\n"
    }
   }
  },
  {
   "cell_type": "code",
   "execution_count": 23,
   "outputs": [
    {
     "name": "stdout",
     "output_type": "stream",
     "text": [
      "x: (0.0, 0.7)\n",
      "y: (0.0, 0.7)\n",
      "SKLEARNEX INFO: sklearn.svm.SVC.predict_proba: running accelerated version on CPU\n",
      "SKLEARNEX INFO: sklearn.svm.SVC.decision_function: running accelerated version on CPU\n"
     ]
    },
    {
     "name": "stderr",
     "output_type": "stream",
     "text": [
      "C:\\Users\\leone\\AppData\\Local\\Temp/ipykernel_1952/4152128146.py:5: MatplotlibDeprecationWarning: Auto-removal of grids by pcolor() and pcolormesh() is deprecated since 3.5 and will be removed two minor releases later; please call grid(False) first.\n",
      "  plt.colorbar()\n"
     ]
    },
    {
     "data": {
      "text/plain": "<Figure size 720x720 with 2 Axes>",
      "image/png": "[encoded data removed]"
     },
     "metadata": {},
     "output_type": "display_data"
    }
   ],
   "source": [
    "c_scan = read_c_scan(r\"C:\\Users\\leone\\Universidad de los Andes\\Daniel Julian Gonzalez Ramirez - Entrega Proyecto Desminado - Daniel Gonzalez\\02 mediciones de gpr\\07_mina_350_350_esfera_450_250\\02_merged_files\\C_Scan_time_raw.h5\", 'x')\n",
    "qx, qy, qt = c_scan.shape\n",
    "X_test = np.reshape(c_scan, (qx * qy, qt))\n",
    "\n",
    "x = np.linspace(0, 700, qx)\n",
    "y = np.linspace(0, 700, qy)\n",
    "\n",
    "mine_pred = best_model.predict_proba(dict_learner.transform(X_test))\n",
    "mine_pred = np.reshape(mine_pred[:,1], (qx, qy))\n",
    "plot_mine_map(x, y, mine_pred)"
   ],
   "metadata": {
    "collapsed": false,
    "pycharm": {
     "name": "#%%\n"
    }
   }
  },
  {
   "cell_type": "markdown",
   "source": [
    "### Escenario 8"
   ],
   "metadata": {
    "collapsed": false,
    "pycharm": {
     "name": "#%% md\n"
    }
   }
  },
  {
   "cell_type": "code",
   "execution_count": 24,
   "outputs": [
    {
     "name": "stdout",
     "output_type": "stream",
     "text": [
      "x: (0.0, 0.7)\n",
      "y: (1.0, 1.7)\n",
      "SKLEARNEX INFO: sklearn.svm.SVC.predict_proba: running accelerated version on CPU\n",
      "SKLEARNEX INFO: sklearn.svm.SVC.decision_function: running accelerated version on CPU\n"
     ]
    },
    {
     "name": "stderr",
     "output_type": "stream",
     "text": [
      "C:\\Users\\leone\\AppData\\Local\\Temp/ipykernel_1952/4152128146.py:5: MatplotlibDeprecationWarning: Auto-removal of grids by pcolor() and pcolormesh() is deprecated since 3.5 and will be removed two minor releases later; please call grid(False) first.\n",
      "  plt.colorbar()\n"
     ]
    },
    {
     "data": {
      "text/plain": "<Figure size 720x720 with 2 Axes>",
      "image/png": "[encoded data removed]"
     },
     "metadata": {},
     "output_type": "display_data"
    }
   ],
   "source": [
    "c_scan = read_c_scan(r\"C:\\Users\\leone\\Universidad de los Andes\\Daniel Julian Gonzalez Ramirez - Entrega Proyecto Desminado - Daniel Gonzalez\\02 mediciones de gpr\\08_placa_350_1350_esfera_200_1500\\02_merged_files\\C_Scan_time_raw.h5\", 'x')\n",
    "qx, qy, qt = c_scan.shape\n",
    "X_test = np.reshape(c_scan, (qx * qy, qt))\n",
    "\n",
    "x = np.linspace(0, 700, qx)\n",
    "y = np.linspace(0, 700, qy)\n",
    "\n",
    "mine_pred = best_model.predict_proba(dict_learner.transform(X_test))\n",
    "mine_pred = np.reshape(mine_pred[:,1], (qx, qy))\n",
    "plot_mine_map(x, y, mine_pred)"
   ],
   "metadata": {
    "collapsed": false,
    "pycharm": {
     "name": "#%%\n"
    }
   }
  },
  {
   "cell_type": "markdown",
   "source": [
    "## Mediciones Gabriel"
   ],
   "metadata": {
    "collapsed": false,
    "pycharm": {
     "name": "#%% md\n"
    }
   }
  },
  {
   "cell_type": "markdown",
   "source": [
    "### Escenario 1"
   ],
   "metadata": {
    "collapsed": false,
    "pycharm": {
     "name": "#%% md\n"
    }
   }
  },
  {
   "cell_type": "code",
   "execution_count": 25,
   "outputs": [
    {
     "name": "stdout",
     "output_type": "stream",
     "text": [
      "x: (0.0, 0.7)\n",
      "y: (1.0, 1.7)\n",
      "SKLEARNEX INFO: sklearn.svm.SVC.predict_proba: running accelerated version on CPU\n",
      "SKLEARNEX INFO: sklearn.svm.SVC.decision_function: running accelerated version on CPU\n"
     ]
    },
    {
     "name": "stderr",
     "output_type": "stream",
     "text": [
      "C:\\Users\\leone\\AppData\\Local\\Temp/ipykernel_1952/4152128146.py:5: MatplotlibDeprecationWarning: Auto-removal of grids by pcolor() and pcolormesh() is deprecated since 3.5 and will be removed two minor releases later; please call grid(False) first.\n",
      "  plt.colorbar()\n"
     ]
    },
    {
     "data": {
      "text/plain": "<Figure size 720x720 with 2 Axes>",
      "image/png": "[encoded data removed]"
     },
     "metadata": {},
     "output_type": "display_data"
    }
   ],
   "source": [
    "c_scan = read_c_scan(r\"C:\\Users\\leone\\OneDrive - Universidad de los Andes\\Universidad\\Proyecto Desminado\\Mediciones Gabriel\\01.2_solo_arena\\202112161844\\Time\\C_Scans\\C_scan_default_title.h5\", 'x')\n",
    "qx, qy, qt = c_scan.shape\n",
    "X_test = np.reshape(c_scan, (qx * qy, qt))\n",
    "\n",
    "x = np.linspace(0, 700, qx)\n",
    "y = np.linspace(0, 700, qy)\n",
    "\n",
    "mine_pred = best_model.predict_proba(dict_learner.transform(X_test))\n",
    "mine_pred = np.reshape(mine_pred[:,1], (qx, qy))\n",
    "plot_mine_map(x, y, mine_pred)"
   ],
   "metadata": {
    "collapsed": false,
    "pycharm": {
     "name": "#%%\n"
    }
   }
  },
  {
   "cell_type": "code",
   "execution_count": 26,
   "outputs": [
    {
     "name": "stdout",
     "output_type": "stream",
     "text": [
      "x: (0.0, 0.7)\n",
      "y: (0.0, 0.7)\n",
      "SKLEARNEX INFO: sklearn.svm.SVC.predict_proba: running accelerated version on CPU\n",
      "SKLEARNEX INFO: sklearn.svm.SVC.decision_function: running accelerated version on CPU\n"
     ]
    },
    {
     "name": "stderr",
     "output_type": "stream",
     "text": [
      "C:\\Users\\leone\\AppData\\Local\\Temp/ipykernel_1952/4152128146.py:5: MatplotlibDeprecationWarning: Auto-removal of grids by pcolor() and pcolormesh() is deprecated since 3.5 and will be removed two minor releases later; please call grid(False) first.\n",
      "  plt.colorbar()\n"
     ]
    },
    {
     "data": {
      "text/plain": "<Figure size 720x720 with 2 Axes>",
      "image/png": "[encoded data removed]"
     },
     "metadata": {},
     "output_type": "display_data"
    }
   ],
   "source": [
    "c_scan = read_c_scan(r\"C:\\Users\\leone\\OneDrive - Universidad de los Andes\\Universidad\\Proyecto Desminado\\Mediciones Gabriel\\02.2_esfera_metalica_7mm_350_350_10mm\\merged_files\\C_scan_02.2_esfera_metalica_7mm_350_350_10mm_time_raw.h5\", 'x')\n",
    "qx, qy, qt = c_scan.shape\n",
    "X_test = np.reshape(c_scan, (qx * qy, qt))\n",
    "\n",
    "x = np.linspace(0, 700, qx)\n",
    "y = np.linspace(0, 700, qy)\n",
    "\n",
    "mine_pred = best_model.predict_proba(dict_learner.transform(X_test))\n",
    "mine_pred = np.reshape(mine_pred[:,1], (qx, qy))\n",
    "plot_mine_map(x, y, mine_pred)"
   ],
   "metadata": {
    "collapsed": false,
    "pycharm": {
     "name": "#%%\n"
    }
   }
  },
  {
   "cell_type": "code",
   "execution_count": 27,
   "outputs": [
    {
     "name": "stdout",
     "output_type": "stream",
     "text": [
      "x: (0.0, 0.7)\n",
      "y: (0.0, 0.7)\n",
      "SKLEARNEX INFO: sklearn.svm.SVC.predict_proba: running accelerated version on CPU\n",
      "SKLEARNEX INFO: sklearn.svm.SVC.decision_function: running accelerated version on CPU\n"
     ]
    },
    {
     "name": "stderr",
     "output_type": "stream",
     "text": [
      "C:\\Users\\leone\\AppData\\Local\\Temp/ipykernel_1952/4152128146.py:5: MatplotlibDeprecationWarning: Auto-removal of grids by pcolor() and pcolormesh() is deprecated since 3.5 and will be removed two minor releases later; please call grid(False) first.\n",
      "  plt.colorbar()\n"
     ]
    },
    {
     "data": {
      "text/plain": "<Figure size 720x720 with 2 Axes>",
      "image/png": "[encoded data removed]"
     },
     "metadata": {},
     "output_type": "display_data"
    }
   ],
   "source": [
    "c_scan = read_c_scan(r\"C:\\Users\\leone\\OneDrive - Universidad de los Andes\\Universidad\\Proyecto Desminado\\Mediciones Gabriel\\03.2_esfera_metalica_7mm_350_350_110mm\\202112161017\\Time\\C_Scans\\C_scan_default_title.h5\", 'x')\n",
    "qx, qy, qt = c_scan.shape\n",
    "X_test = np.reshape(c_scan, (qx * qy, qt))\n",
    "\n",
    "x = np.linspace(0, 700, qx)\n",
    "y = np.linspace(0, 700, qy)\n",
    "\n",
    "mine_pred = best_model.predict_proba(dict_learner.transform(X_test))\n",
    "mine_pred = np.reshape(mine_pred[:,1], (qx, qy))\n",
    "plot_mine_map(x, y, mine_pred)"
   ],
   "metadata": {
    "collapsed": false,
    "pycharm": {
     "name": "#%%\n"
    }
   }
  },
  {
   "cell_type": "code",
   "execution_count": null,
   "outputs": [],
   "source": [],
   "metadata": {
    "collapsed": false,
    "pycharm": {
     "name": "#%%\n"
    }
   }
  }
 ],
 "metadata": {
  "kernelspec": {
   "display_name": "Python 3",
   "language": "python",
   "name": "python3"
  },
  "language_info": {
   "codemirror_mode": {
    "name": "ipython",
    "version": 2
   },
   "file_extension": ".py",
   "mimetype": "text/x-python",
   "name": "python",
   "nbconvert_exporter": "python",
   "pygments_lexer": "ipython2",
   "version": "2.7.6"
  }
 },
 "nbformat": 4,
 "nbformat_minor": 0
}