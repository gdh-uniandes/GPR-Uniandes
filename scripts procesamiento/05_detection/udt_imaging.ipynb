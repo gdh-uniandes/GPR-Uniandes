{
 "cells": [
  {
   "cell_type": "code",
   "execution_count": 1,
   "metadata": {
    "collapsed": true,
    "pycharm": {
     "name": "#%%\n"
    }
   },
   "outputs": [],
   "source": [
    "import h5py\n",
    "import logging\n",
    "\n",
    "import numpy as np\n",
    "import matplotlib.pyplot as plt\n",
    "\n",
    "from scipy import ndimage\n",
    "from mayavi import mlab\n"
   ]
  },
  {
   "cell_type": "code",
   "execution_count": 2,
   "outputs": [],
   "source": [
    "logging.basicConfig(level = logging.DEBUG)\n",
    "log = logging.getLogger(__name__)"
   ],
   "metadata": {
    "collapsed": false,
    "pycharm": {
     "name": "#%%\n"
    }
   }
  },
  {
   "cell_type": "code",
   "execution_count": 3,
   "outputs": [],
   "source": [
    "# Constants\n",
    "\n",
    "# Velocity of light in free space [m/s]\n",
    "c = 2.9979e8\n",
    "# Permittivity of free space [F/m]\n",
    "e_0 = 8.854e-12\n",
    "# Permeability of free space [H/m]\n",
    "u_0 = 4 * np.pi * 1e-7\n",
    "# Intrinsic impedance in free space [ohms]\n",
    "z_0 = 120 * np.pi\n"
   ],
   "metadata": {
    "collapsed": false,
    "pycharm": {
     "name": "#%%\n"
    }
   }
  },
  {
   "cell_type": "code",
   "execution_count": 4,
   "outputs": [],
   "source": [
    "def read_c_scan_freq(filename: str, polarization: str) -> np.ndarray:\n",
    "    \"\"\"Reads a .h5 file that contains the C-Scan and returns it in a ndarray\n",
    "\n",
    "    Parameters\n",
    "    ----------\n",
    "    filename: str\n",
    "        Filename of the .h5 file\n",
    "    polarization: str\n",
    "        Whether \"x\" or \"y\" polarization\n",
    "\n",
    "    Returns\n",
    "    -------\n",
    "    ndarray\n",
    "    Frequency ndarray C-Scan\n",
    "    \"\"\"\n",
    "    data_frame = h5py.File(filename, 'r')\n",
    "    f0 = data_frame['Frequency'].attrs['f0']\n",
    "    ff = data_frame['Frequency'].attrs['ff']\n",
    "    qf = int(data_frame['Frequency'].attrs['q'])\n",
    "    # x- and y-axis lower limits, upper limits and step are retrieved\n",
    "    x0 = data_frame['Position'].attrs['x0']\n",
    "    dx = data_frame['Position'].attrs['dx']\n",
    "    xf = data_frame['Position'].attrs['xf']\n",
    "    y0 = data_frame['Position'].attrs['y0']\n",
    "    dy = data_frame['Position'].attrs['dy']\n",
    "    yf = data_frame['Position'].attrs['yf']\n",
    "    log.debug(f\"x: ({x0}, {xf})\")\n",
    "    log.debug(f\"y: ({y0}, {yf})\")\n",
    "    log.debug(f\"f: ({f0}, {ff})\")\n",
    "    # Amount of steps over each axis is calculated. Operation rounds up the division result as needed\n",
    "    qx = int(round((xf - x0) / dx + 1))\n",
    "    qy = int(round((yf - y0) / dy + 1))\n",
    "\n",
    "    x = np.linspace(x0, xf, qx)\n",
    "    y = np.linspace(y0, yf, qy)\n",
    "    f = np.linspace(f0, ff, qf)\n",
    "\n",
    "    c_scan = np.zeros([qx, qy, qf], dtype = 'complex_')\n",
    "\n",
    "    for i in range(0, qx):\n",
    "        # Indexes used to retrieve individual planes of the C-Scan are calculated\n",
    "        index_0 = i * qy\n",
    "        index_f = (i + 1) * qy\n",
    "        c_scan[i, :, :] = data_frame[f'A-Scan/Re{{S21 {polarization}-pol}}'][index_0:index_f][:] + 1j*data_frame[f'A-Scan/Im{{S21 {polarization}-pol}}'][index_0:index_f][:]\n",
    "\n",
    "    log.info(f\"File {filename} read successfully\")\n",
    "\n",
    "    return c_scan, x, y, f"
   ],
   "metadata": {
    "collapsed": false,
    "pycharm": {
     "name": "#%%\n"
    }
   }
  },
  {
   "cell_type": "code",
   "execution_count": 5,
   "outputs": [],
   "source": [
    "def vector_spectral_coefficient(k_x: np.ndarray, k_y: np.ndarray, omega: np.ndarray, e_r: np.ndarray, n: int = 0) -> np.ndarray:\n",
    "    \"\"\"Calculates vector spectral coefficient, F.\n",
    "\n",
    "    Parameters\n",
    "    ----------\n",
    "    k_x: np.ndarray\n",
    "        k_x-axis\n",
    "    k_y: np.ndarray\n",
    "        k_x-axis\n",
    "    omega: np.ndarray\n",
    "        Frequency of the\n",
    "    e_r: np.ndarray\n",
    "        Relative permittivities of each layer\n",
    "    n: int\n",
    "        Layer for calculation of vector spectral coefficient\n",
    "\n",
    "    Returns\n",
    "    -------\n",
    "    ndarrray\n",
    "    \"\"\"\n",
    "    # Depends on (kx, ky)\n",
    "    k_rho_2 = k_x[:, np.newaxis]**2 + k_y[np.newaxis, :]**2\n",
    "    # Free-space wavenumber (depends on omega)\n",
    "    k_0 = omega / c\n",
    "    # l-layer wavenumber (depends on omega and l)\n",
    "    k = np.sqrt(e_r[np.newaxis, :])*k_0[:, np.newaxis]\n",
    "    # l-layer dispersion relation (depends on kx, ky, omega, l)\n",
    "    k_zl = np.sqrt(k[np.newaxis, np.newaxis, :, :]**2 - k_rho_2[:,:,np.newaxis, np.newaxis] + 0j)\n",
    "\n",
    "    # Equ. (2.48b)\n",
    "    T_TE = (2 * k_zl[:, :, :, :-1]) / (k_zl[:, :, :, :-1] + k_zl[:, :, :, 1:])\n",
    "    # Equ. (2.48c)\n",
    "    T_TM = (2 * e_r[np.newaxis, np.newaxis, np.newaxis, :-1] * k_zl[:, :, :, :-1]) / (e_r[np.newaxis, np.newaxis, np.newaxis, 1:] * k_zl[:, :, :, :-1] + e_r[np.newaxis, np.newaxis, np.newaxis, :-1] * k_zl[:, :, :, 1:])\n",
    "\n",
    "    assert ((0 < T_TE) & (T_TE < 2)).all(), f\"Fresnel transmission coefficient TE mode out of range (0, 1)\"\n",
    "    assert ((0 < T_TM) & (T_TM < 2)).all(), f\"Fresnel transmission coefficient TM mode out of range (0, 1)\"\n",
    "\n",
    "    basis = np.eye(3)\n",
    "    x_basis = basis[0]\n",
    "    y_basis = basis[1]\n",
    "    z_basis = basis[2]\n",
    "\n",
    "    #idx_order = kx, ky, omega, vector component\n",
    "    x_basis = x_basis[np.newaxis, np.newaxis, np.newaxis, :]\n",
    "    y_basis = y_basis[np.newaxis, np.newaxis, np.newaxis, :]\n",
    "    z_basis = z_basis[np.newaxis, np.newaxis, np.newaxis, :]\n",
    "\n",
    "    k_x = k_x[:, np.newaxis, np.newaxis, np.newaxis]\n",
    "    k_y = k_y[np.newaxis, :, np.newaxis, np.newaxis]\n",
    "    k_n = k[np.newaxis, np.newaxis, :, n , np.newaxis]\n",
    "    k_z0 = k_zl[:, :, :, 0, np.newaxis]\n",
    "    k_zn = k_zl[:, :, :, n, np.newaxis]\n",
    "    k_rho_2 = k_rho_2[:, :, np.newaxis, np.newaxis]\n",
    "\n",
    "    F = (-x_basis * k_x * k_y + y_basis * k_x**2) / ( k_z0 * (k_rho_2)) * np.prod(T_TE[:,:,:,np.newaxis, :n], axis = -1) + k_y * k_zn * (x_basis * k_x * k_z0 + y_basis * k_y * k_z0 + z_basis * (k_rho_2))/(k_n**2 * k_z0 * (k_rho_2)) * np.prod(T_TM[:,:,:,np.newaxis, :n], axis = -1)\n",
    "\n",
    "    return F"
   ],
   "metadata": {
    "collapsed": false,
    "pycharm": {
     "name": "#%%\n"
    }
   }
  },
  {
   "cell_type": "code",
   "execution_count": 6,
   "outputs": [],
   "source": [
    "# Not used\n",
    "def spectral_hertzian_dipole_radiation(x, y, omega, e_r, P_rad):\n",
    "    # Rectangular to spherical\n",
    "    x = np.linspace(0, 0.7, 141*2)\n",
    "    y = np.linspace(0, 0.7, 141*2)\n",
    "    rho = np.sqrt(x[:, np.newaxis]**2 + y[np.newaxis, :]**2 )\n",
    "    theta = np.arctan2(y[np.newaxis, :], x[:, np.newaxis])\n",
    "\n",
    "    # Free-space wavenumber (depends on omega)\n",
    "    k_0 = omega / c\n",
    "    lambda_f = c/np.max(omega)\n",
    "    l = lambda_f * 1e-3\n",
    "    # l-layer wavenumber (depends on omega and l)\n",
    "    k = np.sqrt(1) * k_0\n",
    "    R_r= z_0 * (2 * np.pi /3) * (l/lambda_f)**2\n",
    "    I_0 = np.sqrt(2 * P_rad / R_r)\n",
    "    print(f\"Antenna Current: {I_0} A\")\n",
    "\n",
    "\n",
    "    electric_field = 1j * z_0 * (k[np.newaxis, np.newaxis, :] * I_0 * l * np.exp(-1j * k[np.newaxis, np.newaxis, :] * rho[:, :, np.newaxis]))/(4 * np.pi * (rho[:, :, np.newaxis]+1e-12)) * np.sin(theta[:, :, np.newaxis])\n",
    "\n",
    "    radiated_field = np.abs(electric_field)\n",
    "\n",
    "    spectral_radiated_field = np.fft.fft2(radiated_field, axes=(0, 1))\n",
    "\n",
    "    spectral_radiated_field = np.fft.fftshift(spectral_radiated_field, axes=(0, 1))\n",
    "    i_idx = 141//2+1\n",
    "    f_idx = x.size - 141//2\n",
    "    spectral_radiated_field = spectral_radiated_field[i_idx:f_idx, i_idx:f_idx, :]\n",
    "\n",
    "    return spectral_radiated_field\n"
   ],
   "metadata": {
    "collapsed": false,
    "pycharm": {
     "name": "#%%\n"
    }
   }
  },
  {
   "cell_type": "code",
   "execution_count": 7,
   "outputs": [],
   "source": [
    "def spectral_horn_radiation(k_x, k_y, omega):\n",
    "    \"\"\"Calculates the radiation pattern of a horn radiation in the spectral domain.\n",
    "\n",
    "    Parameters\n",
    "    ----------\n",
    "    k_x: ndarray\n",
    "    k_y: ndarray\n",
    "    omega: ndarray\n",
    "\n",
    "    Returns\n",
    "    -------\n",
    "    ndarray\n",
    "        Spectral radiation of horn antenna.\n",
    "    \"\"\"\n",
    "    k_0 = omega/c\n",
    "    k_z0 = np.sqrt(k_0[np.newaxis, np.newaxis, :]**2 - k_x[:, np.newaxis, np.newaxis]**2 - k_y[np.newaxis, :, np.newaxis]**2)\n",
    "    spectral_radiated_field = k_z0/k_0[np.newaxis, np.newaxis, :]\n",
    "    return spectral_radiated_field"
   ],
   "metadata": {
    "collapsed": false,
    "pycharm": {
     "name": "#%%\n"
    }
   }
  },
  {
   "cell_type": "code",
   "execution_count": 8,
   "outputs": [],
   "source": [
    "def udt(signal: np.ndarray, x: np.ndarray, y: np.ndarray, z: np.ndarray, f: np.ndarray, e_r: np.ndarray, thicknesses: np.ndarray) -> np.ndarray:\n",
    "    \"\"\"Migrates the frequency C-Scan using Uniform Diffraction Tomography (UDT) algorithm in stratified media.\n",
    "\n",
    "    Parameters\n",
    "    ----------\n",
    "    signal: ndarray\n",
    "        Frequency C-Scan (x, y, f)\n",
    "    x: ndarray\n",
    "        x-axis in signal\n",
    "    y: ndarray\n",
    "        y-axis in signal\n",
    "    z: ndarray\n",
    "        z-axis desired in migration\n",
    "    f: ndarray\n",
    "        f-axis in signal\n",
    "    e_r: ndarray\n",
    "        Relative permittivities of each layer\n",
    "    thicknesses: ndarray\n",
    "        Thicnesses of each layer\n",
    "\n",
    "    Returns\n",
    "    -------\n",
    "    ndarray\n",
    "\n",
    "    Migrated image (x, y, z)\n",
    "\n",
    "    \"\"\"\n",
    "    n_layers = e_r.size\n",
    "    print(f\"Number of layers: {n_layers}\")\n",
    "    # Step 1\n",
    "    signal_spectral = np.fft.fft2(signal, axes=(0, 1))\n",
    "    signal_spectral = np.fft.fftshift(signal_spectral, axes=(0, 1))\n",
    "\n",
    "    omega = 2 * np.pi * f\n",
    "\n",
    "    d_x, d_y = x[1] - x[0], y[1] - y[0]\n",
    "    k_x, k_y = np.fft.fftfreq(x.size, d = d_x) + 0j, np.fft.fftfreq(y.size, d = d_y) + 0j\n",
    "    k_x[0], k_y[0] = -1e-12j, -1e-12j\n",
    "    k_x, k_y = np.fft.fftshift(k_x) , np.fft.fftshift(k_y)\n",
    "\n",
    "    # Free-space wavenumber (depends on omega)\n",
    "    k_0 = omega / c\n",
    "    # l-layer wavenumber (depends on omega and l)\n",
    "    k = np.sqrt(e_r[np.newaxis, :])*k_0[:, np.newaxis]\n",
    "    #\n",
    "    k_z = np.sqrt(4*k[np.newaxis, np.newaxis, :, :] - k_x[:, np.newaxis, np.newaxis, np.newaxis]**2 - k_y[np.newaxis, :, np.newaxis, np.newaxis]**2 + 0j)\n",
    "    # Step 2\n",
    "    sigma_space = np.zeros((x.size, y.size, z.size), dtype=complex)\n",
    "    z_idx = 0\n",
    "    for n in range(n_layers):\n",
    "        print(n)\n",
    "        k_n = k[np.newaxis, np.newaxis, :, n]\n",
    "        k_zn = k_z[:, :, :, n]\n",
    "        #P = spectral_hertzian_dipole_radiation(x, y, omega, e_r[n], 0.001995262315)\n",
    "        P = spectral_horn_radiation(k_x/2, k_y/2, omega)\n",
    "        #P = 1\n",
    "        F = vector_spectral_coefficient(k_x/2, k_y/2, omega, e_r, n)\n",
    "        sigma_hat = (-z_0 * signal_spectral * np.exp(-1j*(k_zn * np.sum(thicknesses[0:n]) - np.sum(k_z[:,:,:,0:n]*thicknesses[np.newaxis, np.newaxis, np.newaxis, 0:n], axis = -1)))) / ( 8 * np.pi**3 * k_0[np.newaxis, np.newaxis, :] * P**2 * (np.linalg.norm(F, axis = -1))**2)\n",
    "\n",
    "        z_i = 0 if n == 0 else thicknesses[n-1]\n",
    "        z_f = np.sum(thicknesses[:n+1])\n",
    "        for z_val in z[(z>=z_i) & (z<=z_f)]:\n",
    "            print(f\"Migrating z-slice [{z_idx}]: {z_val:.2f} m\")\n",
    "            z_val = np.maximum(z_val, 1e-12)\n",
    "            first_term = (4 * k_n**2 * (z_val - np.sum(thicknesses[0:n]))**2)/(k_zn**4)\n",
    "            second_term = (k**2 * thicknesses[np.newaxis,np.newaxis, np.newaxis, :]**2)/k_z**4\n",
    "            third_term = (k[np.newaxis, np.newaxis, :, :]**2 * k_zn[:, :, :, np.newaxis]**2 + k_n[:, :, :, np.newaxis]**2 * k_z**2)/(k_z**3 * k_zn[:, :, :, np.newaxis]**3) * thicknesses[np.newaxis, np.newaxis, np.newaxis, :]\n",
    "\n",
    "            k_s = k[np.newaxis, np.newaxis, :, :, np.newaxis]\n",
    "            k_m = k[np.newaxis, np.newaxis, :, np.newaxis, :]\n",
    "            k_zs = k_z[:, :, :, :, np.newaxis]\n",
    "            k_zm = k_z[:, :, :, np.newaxis, :]\n",
    "            t_s = thicknesses[np.newaxis, np.newaxis, np.newaxis, :, np.newaxis]\n",
    "            t_m = thicknesses[np.newaxis, np.newaxis, np.newaxis, np.newaxis, :]\n",
    "            fourth_term = (k_s**2 * k_zm**2 + k_m**2 * k_zs**2) / (k_zs**3 * k_zm**3) * t_s * t_m\n",
    "            sum_mask = np.ones((n_layers,n_layers)) - np.eye(n_layers)\n",
    "            sum_mask[n:,n:] = 0\n",
    "            sum_mask = sum_mask.astype(bool)\n",
    "\n",
    "            A_n = first_term + 4*np.sum(second_term[:,:,:,:n], axis=-1) + 4*np.sum(third_term[:,:,:,:n], axis=-1) * (z_val - np.sum(thicknesses[:n])) + np.sum(fourth_term, where = sum_mask, axis = (-1, -2))\n",
    "            sigma_denominator = 1/(k_zn * (np.sqrt(A_n))) * (k_n**2/omega[np.newaxis, np.newaxis, :])\n",
    "            sigma_denominator = np.trapz(sigma_denominator, k_x, axis=0)\n",
    "            sigma_denominator = np.trapz(sigma_denominator, k_y, axis=0)\n",
    "\n",
    "            sigma_numerator = np.fft.ifft2(np.fft.ifftshift(sigma_hat * np.exp(1j * k_zn * z_val)/k_zn, axes = (0, 1)) , axes = (0, 1))\n",
    "            #sigma_numerator = np.fft.fftshift(sigma_numerator, axes = (0, 1))\n",
    "            sigma_numerator = sigma_numerator * (k_n**2/omega[np.newaxis, np.newaxis, :])\n",
    "            #log.debug(f\"Sigma numerator shape: {sigma_numerator.shape}\")\n",
    "            #log.debug(f\"Sigma denominator shape: {sigma_denominator.shape}\")\n",
    "            sigma_r = np.trapz(sigma_numerator/sigma_denominator[np.newaxis, np.newaxis, :], omega, axis=-1)\n",
    "            sigma_space[:, :, z_idx] = sigma_r\n",
    "            z_idx+=1\n",
    "\n",
    "    return sigma_space"
   ],
   "metadata": {
    "collapsed": false,
    "pycharm": {
     "name": "#%%\n"
    }
   }
  },
  {
   "cell_type": "code",
   "execution_count": 44,
   "outputs": [
    {
     "name": "stderr",
     "output_type": "stream",
     "text": [
      "DEBUG:__main__:x: (0.0, 0.7)\n",
      "DEBUG:__main__:y: (0.0, 0.7)\n",
      "DEBUG:__main__:f: (600000000.0, 6000000000.0)\n",
      "INFO:__main__:File C:\\Users\\leone\\Universidad de los Andes\\Daniel Julian Gonzalez Ramirez - Entrega Proyecto Desminado - Daniel Gonzalez\\02 mediciones de gpr\\01_solo_arena\\01_merged_files\\C_Scan_frequency_raw.h5 read successfully\n",
      "DEBUG:__main__:x: (0.0, 0.7)\n",
      "DEBUG:__main__:y: (1.0, 1.7)\n",
      "DEBUG:__main__:f: (600000000.0, 6000000000.0)\n",
      "INFO:__main__:File C:\\Users\\leone\\Universidad de los Andes\\Daniel Julian Gonzalez Ramirez - Entrega Proyecto Desminado - Daniel Gonzalez\\02 mediciones de gpr\\08_placa_350_1350_esfera_200_1500\\01_merged_files\\C_Scan_default_title.h5 read successfully\n"
     ]
    },
    {
     "name": "stdout",
     "output_type": "stream",
     "text": [
      "Number of layers: 2\n",
      "0\n",
      "Migrating z-slice [0]: 0.00 m\n",
      "Migrating z-slice [1]: 0.04 m\n",
      "Migrating z-slice [2]: 0.09 m\n",
      "Migrating z-slice [3]: 0.13 m\n",
      "Migrating z-slice [4]: 0.17 m\n",
      "Migrating z-slice [5]: 0.22 m\n",
      "Migrating z-slice [6]: 0.26 m\n",
      "Migrating z-slice [7]: 0.30 m\n",
      "Migrating z-slice [8]: 0.35 m\n",
      "Migrating z-slice [9]: 0.39 m\n",
      "Migrating z-slice [10]: 0.43 m\n",
      "Migrating z-slice [11]: 0.48 m\n",
      "Migrating z-slice [12]: 0.52 m\n",
      "Migrating z-slice [13]: 0.56 m\n",
      "1\n",
      "Migrating z-slice [14]: 0.61 m\n",
      "Migrating z-slice [15]: 0.65 m\n",
      "Migrating z-slice [16]: 0.69 m\n",
      "Migrating z-slice [17]: 0.74 m\n",
      "Migrating z-slice [18]: 0.78 m\n",
      "Migrating z-slice [19]: 0.82 m\n",
      "Migrating z-slice [20]: 0.87 m\n",
      "Migrating z-slice [21]: 0.91 m\n",
      "Migrating z-slice [22]: 0.95 m\n",
      "Migrating z-slice [23]: 1.00 m\n",
      "Migrating z-slice [24]: 1.04 m\n"
     ]
    }
   ],
   "source": [
    "# Non-object scene\n",
    "filename_0 = r\"C:\\Users\\leone\\Universidad de los Andes\\Daniel Julian Gonzalez Ramirez - Entrega Proyecto Desminado - Daniel Gonzalez\\02 mediciones de gpr\\01_solo_arena\\01_merged_files\\C_Scan_frequency_raw.h5\"\n",
    "# Buried object scene\n",
    "filename = r\"C:\\Users\\leone\\Universidad de los Andes\\Daniel Julian Gonzalez Ramirez - Entrega Proyecto Desminado - Daniel Gonzalez\\02 mediciones de gpr\\08_placa_350_1350_esfera_200_1500\\01_merged_files\\C_Scan_default_title.h5\"\n",
    "\n",
    "c_scan_f_0, _, _, _ = read_c_scan_freq(filename_0, \"x\")\n",
    "c_scan_f, x, y, f = read_c_scan_freq(filename, \"x\")\n",
    "\n",
    "\n",
    "#z_1, z_2 = np.linspace(0, 0.79, 5, endpoint=False), np.linspace(0.79+1e-12, 0.79+0.26, 15)\n",
    "#z = np.concatenate([z_1, z_2])\n",
    "h_ant = 0.600 + 0.180\n",
    "h_soil = 0.260\n",
    "z = np.linspace(0, h_ant+h_soil, 25)\n",
    "e_r = np.array([1, 2.58])\n",
    "thicknesses = np.array([0.59, 0.46])\n",
    "\n",
    "\n",
    "avg = np.mean(c_scan_f, axis = (0, 1))\n",
    "mov_avg = ndimage.uniform_filter(c_scan_f, size=(25, 25, 1))\n",
    "\n",
    "c_scan_f_sub = c_scan_f - c_scan_f_0\n",
    "c_scan_f_avg = c_scan_f - avg\n",
    "c_scan_f_mov_avg = c_scan_f - mov_avg\n",
    "\n",
    "image = udt(c_scan_f_sub, x, y, z, f, e_r, thicknesses)"
   ],
   "metadata": {
    "collapsed": false,
    "pycharm": {
     "name": "#%%\n"
    }
   }
  },
  {
   "cell_type": "code",
   "execution_count": 46,
   "outputs": [
    {
     "name": "stderr",
     "output_type": "stream",
     "text": [
      "DEBUG:matplotlib.colorbar:locator: <matplotlib.ticker.AutoLocator object at 0x00000222C2B7D400>\n",
      "DEBUG:matplotlib.colorbar:locator: <matplotlib.ticker.AutoLocator object at 0x00000222C2D1E1C0>\n"
     ]
    },
    {
     "data": {
      "text/plain": "<matplotlib.colorbar.Colorbar at 0x222c2d24b20>"
     },
     "execution_count": 46,
     "metadata": {},
     "output_type": "execute_result"
    },
    {
     "data": {
      "text/plain": "<Figure size 1440x720 with 4 Axes>",
      "image/png": "[encoded data removed]"
     },
     "metadata": {
      "needs_background": "light"
     },
     "output_type": "display_data"
    }
   ],
   "source": [
    "x_fixed = 0.450\n",
    "x_fixed_idx = 90\n",
    "\n",
    "y_fixed = 0.500\n",
    "y_fixed_idx = 100\n",
    "\n",
    "fig, (ax1, ax2) = plt.subplots(1, 2, figsize = (20, 10), sharey=True)\n",
    "plot_1 = ax1.pcolor(x[:], z[:], np.swapaxes(np.abs(image[x_fixed_idx, :, :]), 0,1), cmap='jet', vmin = 0, vmax = np.max(np.abs(image)) )\n",
    "ax1.plot(y_fixed*np.ones(z.size), z, \"k--\")\n",
    "ax1.invert_yaxis()\n",
    "ax1.set_ylabel(\"z (m)\")\n",
    "ax1.set_xlabel(\"y (m)\")\n",
    "fig.colorbar(plot_1, ax=ax1)\n",
    "\n",
    "plot_2 = ax2.pcolor(x[:], z[:], np.swapaxes(np.abs(image[:, y_fixed_idx, :]), 0,1), cmap='jet', vmin = 0, vmax = np.max(np.abs(image)))\n",
    "ax2.plot(x_fixed*np.ones(z.size), z, \"k--\")\n",
    "ax2.set_ylabel(\"z (m)\")\n",
    "ax2.set_xlabel(\"x (m)\")\n",
    "fig.colorbar(plot_2, ax=ax2)"
   ],
   "metadata": {
    "collapsed": false,
    "pycharm": {
     "name": "#%%\n"
    }
   }
  },
  {
   "cell_type": "code",
   "execution_count": 21,
   "outputs": [],
   "source": [
    "@mlab.show\n",
    "def plot_migrated_image(image: np.ndarray, x: np.ndarray, y: np.ndarray, z: np.ndarray):\n",
    "    \"\"\"Plot 3D migrated image\n",
    "\n",
    "    Parameters\n",
    "    ----------\n",
    "    image: np.ndarray\n",
    "        Migrated image\n",
    "    x: np.ndarray\n",
    "        x-axis\n",
    "    y: np.ndarray\n",
    "        y-axis\n",
    "    z: np.ndarray\n",
    "        z-axis\n",
    "\n",
    "    Returns\n",
    "    -------\n",
    "\n",
    "    \"\"\"\n",
    "    # File is opened into data_frame variable\n",
    "    #data_frame = h5py.File(migrated_image_file_name, 'r')\n",
    "    # Title for the migrated image figure\n",
    "    title = \"UDT 3D-Migration\"\n",
    "    # x-, y- and z-axis lower limits, upper limits and amount of measurements are read\n",
    "    x0, xf, qx = x[0], x[-1], x.size\n",
    "    y0, yf, qy = y[0], y[-1], y.size\n",
    "    z0, zf, qz = z[0], z[-1], z.size\n",
    "    # Reads the migrated image\n",
    "    mi = image\n",
    "    # Data frame is closed\n",
    "    #data_frame.close()\n",
    "    # Grid with the domain points is created. Time axis is scaled to be within the same orders of magnitude as x and y.\n",
    "    xg, yg, zg = np.mgrid[x0:xf:qx * 1j, y0:yf:qy * 1j, zf:z0:qz * 1j]\n",
    "    #xg, yg, zg = np.meshgrid(x, y, z)\n",
    "\n",
    "    #xg, yg, zg = xg.T, yg.T, zg.T\n",
    "    # Labels for the horizontal and vertical axes are set\n",
    "    x_label = 'x [m]'\n",
    "    y_label = 'y [m]'\n",
    "    v_label = 'z [m]'\n",
    "    # Figure is created\n",
    "    mlab.figure(figure=title, size=(1100, 800))\n",
    "    # Volume slice type plot is added to the figure\n",
    "    mlab.volume_slice(xg, yg, zg, mi, opacity=0.1, reset_zoom=True)\n",
    "    # Options for the colorbar and axes are set\n",
    "    cb1 = mlab.colorbar(orientation=\"vertical\", nb_labels=5)\n",
    "    cb1.scalar_bar.unconstrained_font_size = True\n",
    "    cb1.label_text_property.font_size = 10\n",
    "    cb1.label_text_property.bold = False\n",
    "    cb1.label_text_property.italic = False\n",
    "    ax = mlab.axes(xlabel=x_label, ylabel=y_label, zlabel=v_label)\n",
    "    ax.label_text_property.font_size = 1\n",
    "    ax.title_text_property.font_size = 1\n",
    "    # Outline for the volume slice is added to the figure\n",
    "    mlab.outline()\n",
    "    # Title is added to the figure\n",
    "    mlab.title(title, size=0.2, height=0)\n",
    "    # Contour type plot is added to the figure\n",
    "    mlab.contour3d(xg, yg, zg, mi, opacity=0.1, reset_zoom=True, contours=25)\n",
    "    # Figure is displayed\n",
    "    #mlab.show()"
   ],
   "metadata": {
    "collapsed": false,
    "pycharm": {
     "name": "#%%\n"
    }
   }
  },
  {
   "cell_type": "code",
   "execution_count": 47,
   "outputs": [],
   "source": [
    "image_2 = image.copy()\n",
    "image_2 = image_2[:, :, :]\n",
    "image_avg = np.average(np.abs(image_2))\n",
    "image_std = np.std(np.abs(image_2))\n",
    "image_th = image_avg+1*image_std\n",
    "image_modified_idx = np.abs(image_2) < image_th\n",
    "image_2[image_modified_idx] = 0\n"
   ],
   "metadata": {
    "collapsed": false,
    "pycharm": {
     "name": "#%%\n"
    }
   }
  },
  {
   "cell_type": "code",
   "execution_count": 48,
   "outputs": [
    {
     "name": "stderr",
     "output_type": "stream",
     "text": [
      "DEBUG:pyface.ui.qt4.gui:---------- starting GUI event loop ----------\n",
      "DEBUG:mayavi.core.base:No view found for [<mayavi.core.scene.Scene object at 0x00000222E1726C70>] in [C:\\Users\\leone\\anaconda3\\envs\\Demining\\lib\\site-packages\\mayavi\\core\\ui\\scene.py]. Using the base class trait_view instead.\n",
      "DEBUG:traitsui.editor_factory:Can't import toolkit_object 'rgb_color_editor:SimpleEditor': Can't import 'rgb_color_editor:SimpleEditor' for backend qt4\n",
      "DEBUG:traitsui.editor_factory:Can't import toolkit_object 'rgb_color_editor:SimpleEditor': Can't import 'rgb_color_editor:SimpleEditor' for backend qt4\n",
      "DEBUG:traitsui.editor_factory:Can't import toolkit_object 'compound_editor:ReadonlyEditor': Can't import 'compound_editor:ReadonlyEditor' for backend qt4\n",
      "DEBUG:traitsui.editor_factory:Can't import toolkit_object 'compound_editor:ReadonlyEditor': Can't import 'compound_editor:ReadonlyEditor' for backend qt4\n",
      "DEBUG:traitsui.editor_factory:Can't import toolkit_object 'compound_editor:ReadonlyEditor': Can't import 'compound_editor:ReadonlyEditor' for backend qt4\n",
      "DEBUG:traitsui.editor_factory:Can't import toolkit_object 'compound_editor:ReadonlyEditor': Can't import 'compound_editor:ReadonlyEditor' for backend qt4\n",
      "DEBUG:traitsui.editor_factory:Can't import toolkit_object 'compound_editor:ReadonlyEditor': Can't import 'compound_editor:ReadonlyEditor' for backend qt4\n",
      "DEBUG:traitsui.editor_factory:Can't import toolkit_object 'rgb_color_editor:SimpleEditor': Can't import 'rgb_color_editor:SimpleEditor' for backend qt4\n",
      "DEBUG:traitsui.editor_factory:Can't import toolkit_object 'rgb_color_editor:SimpleEditor': Can't import 'rgb_color_editor:SimpleEditor' for backend qt4\n",
      "DEBUG:traitsui.editor_factory:Can't import toolkit_object 'rgb_color_editor:SimpleEditor': Can't import 'rgb_color_editor:SimpleEditor' for backend qt4\n",
      "DEBUG:traitsui.editor_factory:Can't import toolkit_object 'rgb_color_editor:SimpleEditor': Can't import 'rgb_color_editor:SimpleEditor' for backend qt4\n"
     ]
    }
   ],
   "source": [
    "plot_migrated_image(x, y, z[:], np.abs(image_2))"
   ],
   "metadata": {
    "collapsed": false,
    "pycharm": {
     "name": "#%%\n"
    }
   }
  },
  {
   "cell_type": "markdown",
   "source": [],
   "metadata": {
    "collapsed": false,
    "pycharm": {
     "name": "#%% md\n"
    }
   }
  }
 ],
 "metadata": {
  "kernelspec": {
   "display_name": "Python 3",
   "language": "python",
   "name": "python3"
  },
  "language_info": {
   "codemirror_mode": {
    "name": "ipython",
    "version": 2
   },
   "file_extension": ".py",
   "mimetype": "text/x-python",
   "name": "python",
   "nbconvert_exporter": "python",
   "pygments_lexer": "ipython2",
   "version": "2.7.6"
  }
 },
 "nbformat": 4,
 "nbformat_minor": 0
}